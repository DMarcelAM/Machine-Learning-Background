{
 "cells": [
  {
   "cell_type": "markdown",
   "metadata": {},
   "source": [
    "### INDEX\n",
    "\n",
    "1.- [**Basic statistics concepts**](#basic_stat_concepts)<br>\n",
    "&emsp;1.1- [Population](#population)<br>\n",
    "&emsp;1.2.- [Observations](#observations)<br>\n",
    "&emsp;1.3- [Sampling](#sampling)<br>\n",
    "&emsp;1.4- [Sample](#sample)<br>\n",
    "&emsp;&emsp;1.4.1.- [Sample size determination](#sample_size)\n",
    "\n",
    "2.- [**Basic probability concepts**](#basic_prob_concepts)<br>\n",
    "&emsp;2.1- [Experiment](#experiment)<br>\n",
    "&emsp;2.2.- [Probability Space](#probability_space)\n",
    "\n",
    "3.- [**Calculating probabilities**](#probabilities)<br>\n",
    "&emsp;3.1.- [Probability axioms](#axioms)<br>\n",
    "&emsp;3.2.- [Using the probability axioms](#prob_axioms)<br>\n",
    "&emsp;3.3.- [Estimating probability with relative frequency](#rel_f)<br>\n",
    "&emsp;3.4.- [Naive definition of Probability](#def_prob)<br>\n",
    "&emsp;3.5.- [Calculating probabilities - example: Rolling a die](#ex1)<br>\n",
    "&emsp;3.6.- [Probability rules deduced from axioms](#prob_rules)<br>\n",
    "&emsp;3.7.- [Independent Events](#ind_events)   \n",
    "\n",
    "4.- [**Random variables**](#rv)<br>\n",
    "&emsp;4.1.- [Definition](#def_rv)<br>\n",
    "&emsp;4.2.- [Random variables - example: Rolling two dies](#ex2)<br>\n",
    "&emsp;4.3.- [Algebra of random variables](#alg_rv)\n",
    "\n",
    "5.- [**Other types of sample spaces**](#other)<br>\n",
    "&emsp;5.1.- [Infinite Discrete Sample Spaces](#idss)<br>\n",
    "&emsp;5.2.- [Continuous Sample Spaces](#css)\n",
    "\n",
    "6.- [**Conditional probability**](#cp)<br>\n",
    "&emsp;6.1.- [Definition](#def_cp)<br>\n",
    "&emsp;6.2.- [Bayes theorem](#bayes)\n",
    "\n",
    "7.- [**Probability distributions**](#prob_dist)<br>\n",
    "&emsp;7.1. [Definition](#def_prob_dist)<br>\n",
    "&emsp;7.2.- [Discrete probability distribution](#dpd)<br>\n",
    "&emsp;&emsp;7.2.1.- [Discrete uniform distribution](#dud)<br>\n",
    "&emsp;&emsp;7.2.2.- [Poisson distribution](#pd)<br>\n",
    "&emsp;7.3.- [Continuous probability distribution](#cpd)<br>\n",
    "&emsp;&emsp;7.3.1.- [Uniform distribution](#ud)<br>\n",
    "&emsp;&emsp;7.3.2.- [Normal distribution](#nd)<br>\n",
    "&emsp;7.4.- [Univariate and multivariate distributions](#uamd)<br>\n",
    "&emsp;&emsp;7.4.1.- [Joint probability distributions](#jpd)<br>\n",
    "&emsp;&emsp;7.4.2.- [Multivariate normal distribution](#mnd)<br>\n",
    "&emsp;7.5.- [Marginal distributions](#md)<br>\n",
    "&emsp;7.6.- [Conditional probability distributions](#cond_pd)<br>\n",
    "&emsp;7.7.- [Law of total probability](#lotp)<br>\n",
    "&emsp;7.8.- [Independent and identically distributed random variables](#iidrv)\n",
    "\n",
    "8.- [**Sampling distributions**](#sampling_distributions)<br>\n",
    "&emsp;8.1.- [Sample statistic](#sample_statistic)<br>\n",
    "&emsp;&emsp;8.1.1.- [Sample Mean](#sample_mean)<br>\n",
    "&emsp;8.2.- [Sampling distribution](#sampling_distribution)<br>\n",
    "&emsp;&emsp;8.2.1.- [Sampling distribution of the mean](#sampling_distribution_mean)<br>\n",
    "&emsp;8.3.- [Central limit theorem](#clt)\n",
    "\n",
    "9.- [**Expectation**](#expectation)<br>\n",
    "&emsp;9.1.- [Definition](#def_exp)<br>\n",
    "&emsp;&emsp;9.1.1.- [Expectations properties](#exp_prop)<br>\n",
    "&emsp;9.2.- [Variance and Covariance](#vac)<br>\n",
    "&emsp;&emsp;9.2.1.- [Variance](#var)<br>\n",
    "&emsp;&emsp;9.2.2.- [Covariance](#cov)<br>\n",
    "&emsp;9.3.- [Conditional expectation](#cond_exp)<br>\n",
    "&emsp;&emsp;9.3.1.- [Conditional expectation properties](#cond_exp_prop)"
   ]
  },
  {
   "cell_type": "markdown",
   "metadata": {},
   "source": [
    "### Packages"
   ]
  },
  {
   "cell_type": "code",
   "execution_count": 2,
   "metadata": {},
   "outputs": [],
   "source": [
    "import numpy as np\n",
    "import matplotlib.pyplot as plt\n",
    "import matplotlib\n",
    "from scipy.stats import randint, poisson, uniform, norm, multivariate_normal"
   ]
  },
  {
   "cell_type": "markdown",
   "metadata": {},
   "source": [
    " "
   ]
  },
  {
   "cell_type": "markdown",
   "metadata": {},
   "source": [
    "# Statistics and Probability Summary for Machine Learning"
   ]
  },
  {
   "cell_type": "markdown",
   "metadata": {},
   "source": [
    "## 1.- Basic statistics concepts<a id='basic_stat_concepts'></a>\n",
    "\n",
    "Statistics is the discipline that concerns the collection, organization, analysis, interpretation and presentation of data."
   ]
  },
  {
   "cell_type": "markdown",
   "metadata": {},
   "source": [
    "### 1.1.- Population<a id='population'></a>\n",
    "\n",
    "In statistics, a population is a set of similar items or events which is of interest for some question or experiment (e.g. the set of all stars within the Milky Way galaxy). A common aim of statistical analysis is to produce information about some chosen population.\n",
    "\n",
    "E.g. Population of letters\n",
    "\n",
    "$letters=\\{A, B, C, D, \\dots, X, Y, Z \\}$<br><br>\n",
    "\n",
    "**Sub population**\n",
    "\n",
    "A subset of a population that shares one or more additional properties is called a sub population. For example, if the population is all Egyptian people, a sub population is all Egyptian males. \n",
    "\n",
    "Descriptive statistics may yield different results for different sub populations. For instance, a particular medicine may have different effects on different sub populations, and these effects may be obscured or dismissed if such special sub populations are not identified and examined in isolation.\n",
    "\n",
    "E.g. Sub Population of letters\n",
    "\n",
    "$vowels=\\{A, E, I, O, U \\}$"
   ]
  },
  {
   "cell_type": "markdown",
   "metadata": {},
   "source": [
    "### 1.2.- Observations<a id='observations'></a>\n",
    "\n",
    "In statistics, the term refer to any data collected during the scientific activity. Observations can be qualitative, that is, only the absence or presence of a property is noted, or quantitative if a numerical value is attached to the observed phenomenon by counting or measuring.\n",
    "\n",
    "E.g. **Observation collected from the population of letters**\n",
    "\n",
    "$\\{ D\\} \\;\\text{is an observation}$"
   ]
  },
  {
   "cell_type": "markdown",
   "metadata": {},
   "source": [
    "### 1.3.- Sampling<a id='sampling'></a>\n",
    "\n",
    "In statistics, sampling is the selection of a subset (a statistical sample) of individuals from within a statistical population to estimate characteristics of the whole population. Statisticians attempt for the samples to represent the population in question. Two advantages of sampling are lower cost and faster data collection than measuring the entire population.\n",
    "\n",
    "**Simple random sampling**\n",
    "\n",
    "In a simple random sample (SRS) of a given size, all subsets of a sampling frame have an equal probability of being selected. "
   ]
  },
  {
   "cell_type": "markdown",
   "metadata": {},
   "source": [
    "### 1.4.- Sample<a id='sample'></a>\n",
    "\n",
    "In statistics, a sample is a set of observations collected or selected from a statistical population by a defined procedure. By contrast with a sub population, a sample is a subset of a population that is not chosen to share any additional property.\n",
    "\n",
    "Typically, the population is very large, making a census or a complete enumeration of all the individuals in the population either impractical or impossible. The sample usually represents a subset of manageable size. Samples are collected and statistics are calculated from the samples, so that one can make inferences or extrapolations from the sample to the population.\n",
    "\n",
    "The sample may be drawn from a population without replacement (i.e. no element can be selected more than once in the same sample), in which case it is a subset of a population; or with replacement (i.e. an element may appear multiple times in the one sample), in which case it is a multisubset.\n",
    "\n",
    "E.g. **Sample collected from the population of letters**\n",
    "\n",
    "$\\{ R, F\\} \\;\\text{is a sample}$"
   ]
  },
  {
   "cell_type": "markdown",
   "metadata": {},
   "source": [
    "<font size=\"3\">**1.4.1.- Sample size determination**</font><a id='sample_size'></a>\n",
    "\n",
    "Sample size determination is the act of choosing the number of observations to include in a statistical sample. The sample size is an important feature of any empirical study in which the goal is to make inferences about a population from a sample. In practice, the sample size used in a study is usually determined based on the cost, time, or convenience of collecting the data, and the need for it to offer sufficient statistical power.\n",
    "\n",
    "E.g. **Sample size of sample collected from the population of letters**\n",
    "\n",
    "$\\{ R, F\\} \\;\\text{is a sample of size 2}$"
   ]
  },
  {
   "cell_type": "markdown",
   "metadata": {},
   "source": [
    "## 2.- Basic probability concepts<a id='basic_prob_concepts'></a>\n",
    "\n",
    "Probability theory helps us quantify the notion of uncertainty. While we can't predict the exact result of a random experiment, we can use probability theory to say that certain results are \"likely\" and other results are \"unlikely\"."
   ]
  },
  {
   "cell_type": "markdown",
   "metadata": {},
   "source": [
    "### 2.1.- Experiment<a id='experiment'></a>\n",
    "\n",
    "Any procedure that can be infinitely repeated and has a well-defined set of possible outcomes, known as the sample space. An experiment is said to be random if it has more than one possible outcome, and deterministic if it has only one.\n",
    "\n",
    "Quite often the word experiment describes an experimental setup, while the word trial applies to actually executing the experiment and obtaining an outcome. Here we will use both words interchangeably.\n",
    "\n",
    "<font size=\"2\">**Tossing a coin**</font>. The experiment is tossing a coin (or any other object with two distinct sides.) The coin may land and stay on the edge, but this event is so enormously unlikely as to be considered impossible and be disregarded. So the coin lands on either one or the other of its two sides. One is usually called head, the other tail. These are two possible outcomes of a toss of a coin. \n"
   ]
  },
  {
   "cell_type": "markdown",
   "metadata": {},
   "source": [
    "### 2.2.- Probability space<a id='probability_space'></a>\n",
    "\n",
    "A mathematical construct that provides a formal model of a random process or \"experiment\". A probability space consists of three elements:<br><br>\n",
    "\n",
    "<font size=\"3\">**1) Sample space**</font>:  Set of all possible outcomes or results for a given experiment. A sample space may be finite or infinite. Infinite sample spaces may be discrete or continuous.\n",
    "\n",
    "<font size=\"3\">$$\\Omega = \\{s_1,s_2,s_3,\\dots,s_n\\} $$</font> \n",
    "\n",
    "The outcomes of the experiment must be mutually exclusive, i.e. if <font size=\"3\">$s_j$</font> takes place, then no other <font size=\"3\">$s_i$</font>  will take place, $ \\forall i, j \\in    \\{1,2,3,\\dots,n\\}  , i \\not= j $.<br><br>\n",
    "\n",
    "-For our experiment of tossing a coin:\n",
    "\n",
    "<font size=\"2\">$ \\Omega = \\{H,T\\} $</font> \n",
    "\n",
    "Since if we get one side of the coin in a toss, we can't get the other in the same toss then the outcomes of the experiment are mutually exclusive.<br><br>\n",
    "\n",
    "<font size=\"3\">**2) Event space**</font>: Set of all possible events for a given experiment. An event space is the set of subsets of the sample space (An event is a subset of the sample space).\n",
    "\n",
    "<font size=\"3\">$$ F = \\{E_1,E_2,E_3,\\dots,E_m\\} $$</font> <br><br>\n",
    "\n",
    "-For our experiment of tossing a coin:\n",
    "\n",
    "<font size=\"2\">$ F = \\{\\{\\},\\{H\\},\\{T\\},\\{H,T\\}\\} $</font> \n",
    "\n",
    "$ E_1 = \\{\\} : \\text{Empty set} $\n",
    "\n",
    "$ E_2 = \\{H\\} : \\text{Toss a coin and get heads} $\n",
    "\n",
    "$ E_3 = \\{T\\} : \\text{Toss a coin and get tails} $\n",
    "\n",
    "$ E_4 = \\{H,T\\} : \\text{Toss a coin and get heads or tails} $\n",
    "\n",
    "1-element events are said to be elementary e.g. $ \\{H\\} , \\{T\\}$<br><br>\n",
    "\n",
    "<font size=\"3\">**3) Probability function**</font>: Assigns each event in the event space a probability. A probability is a numerical descriptions of how likely an event is to occur, or how likely it is that a proposition is true.\n",
    "\n",
    "<font size=\"3\">$$ P : F \\to [0,1] $$</font> <br><br>\n",
    "\n",
    "-For our example of tossing a coin:\n",
    "\n",
    "$ P(E_2) = P(\\{H\\}) : \\text{Chance of toss a coin and get heads} $\n"
   ]
  },
  {
   "cell_type": "markdown",
   "metadata": {},
   "source": [
    "## 3.- Calculating probabilities<a id='probabilities'></a>"
   ]
  },
  {
   "cell_type": "markdown",
   "metadata": {},
   "source": [
    "### 3.1.- Probability axioms<a id='axioms'></a><br><br>\n",
    "\n",
    "<font size=\"3\">**First axiom**</font>\n",
    "\n",
    "The probability of an event is a non-negative real number:\n",
    "\n",
    "$ \\;\\;\\; P(E) \\in \\mathbb{R}, \\;\\; P(E) \\ge 0 \\;\\;\\;\\;\\;\\;\\;\\;  \\forall E \\in F $\n",
    "\n",
    "where $F$ is the event space.<br><br>\n",
    "\n",
    "<font size=\"3\">**Second axiom**</font>\n",
    "\n",
    "The probability of at least one of the elementary events in the entire sample space will occur is 1.\n",
    "\n",
    "$ \\;\\;\\;P(\\Omega) = 1 $<br><br>\n",
    "\n",
    "<font size=\"3\">**Third axiom**</font>\n",
    "\n",
    "Any countable sequence of disjoint sets (synonymous with mutually exclusive events) $E_1, E_2, \\dots $ satisfies\n",
    "\n",
    "$ P(E_1 \\cup E_2 \\cup E_2 \\dots ) = \t\\sum_{i=1}^{\\infty}P(E_i)$"
   ]
  },
  {
   "cell_type": "markdown",
   "metadata": {},
   "source": [
    "### 3.2.- Using the probability axioms<a id='prob_axioms'></a>\n",
    "    \n",
    "Since, for a fair coin, there is no way to prefer one side to the other, the most natural and common way is to make the two probabilities equal:\n",
    "\n",
    "$ P(H) = P(T) \\;\\;\\;\\;\\;\\;\\;\\;\\;\\dots\\;\\;\\;\\;\\;\\;\\;\\;\\;(1)$              \n",
    "\n",
    "Once we decided that the two probabilities are equal, we are no longer at liberty to choose their common value. The definitions take over and dictate the result. Indeed, the two events {H} and {T} are mutually exclusive so that a probability function should satisfy the additivity requirement:\n",
    "\n",
    "\t\n",
    "$ P(\\{H\\}) + P(\\{T\\})\t= P(\\{H\\} \\cup \\{T\\}) $\n",
    "\n",
    "$ P(\\{H\\}) + P(\\{T\\})\t= P(\\{H,T\\}) $\n",
    "\n",
    "$ P(\\{H\\}) + P(\\{T\\})\t= P(\\Omega) $\n",
    "\n",
    "$ P(\\{H\\}) + P(\\{T\\})\t= 1 \\;\\;\\;\\;\\;\\;\\;\\;\\;\\dots\\;\\;\\;\\;\\;\\;\\;\\;\\;(2) $\n",
    "\n",
    "\n",
    "The combination of $(1)$ and $(2)$ leads inevitably to the conclusion that a probability function that models a toss of a fair coin satisfy $P(H) = P(T) = 1/2$."
   ]
  },
  {
   "cell_type": "markdown",
   "metadata": {},
   "source": [
    "### 3.3.- Estimating probability with relative frequency<a id='rel_f'></a>\n",
    "\n",
    "In an experiment, the probability of event $E$, $P(E)$ is estimate with the relative frequency of an event, i.e. the number of times the event occurs divided by the total number of trials. For a large number of trials we can define:<br><br>\n",
    "\n",
    "$$P(E)=\t\\lim_{n\\to\\infty}\\frac{n_E}{n}$$<br>\n",
    "\n",
    "<font size=\"3\">**Calculating probability with relative frequency**</font>\n",
    "\n",
    "In order to get observations of the experiment, we first need a simulator for tossing a coin"
   ]
  },
  {
   "cell_type": "code",
   "execution_count": 2,
   "metadata": {},
   "outputs": [],
   "source": [
    "def coin_simulation(number_trials):\n",
    "    \"\"\"\n",
    "    number_trials: Number of times we will get a sample (int)\n",
    "    \n",
    "    Return observations: Observations of the experiment (list)\n",
    "    \"\"\"\n",
    "    observations = []\n",
    "    \n",
    "    for i in range(number_trials):\n",
    "        observation = np.random.choice([\"{H}\", \"{T}\"], p=[0.5, 0.5])\n",
    "        observations.append(observation)\n",
    "        \n",
    "    return observations        "
   ]
  },
  {
   "cell_type": "markdown",
   "metadata": {},
   "source": [
    "Once we have the observations we will use the definition of probability with relative frequency"
   ]
  },
  {
   "cell_type": "code",
   "execution_count": 3,
   "metadata": {},
   "outputs": [],
   "source": [
    "def estimating_prob(E, observations):\n",
    "    \"\"\"\n",
    "    E: Event (float, int, str, tuple, set)\n",
    "    observations: Observations of the experiment (list)\n",
    "    \n",
    "    Return P: Probability of event E (float)\n",
    "    \"\"\"\n",
    "    \n",
    "    n_e = observations.count(E)\n",
    "    n = len(observations)\n",
    "    \n",
    "    P = n_e / n\n",
    "    \n",
    "    return P    "
   ]
  },
  {
   "cell_type": "markdown",
   "metadata": {},
   "source": [
    "Now we have to choose the number of trials and the event E"
   ]
  },
  {
   "cell_type": "code",
   "execution_count": 7,
   "metadata": {},
   "outputs": [
    {
     "name": "stdout",
     "output_type": "stream",
     "text": [
      "P({H}) =  0.503\n",
      "P({T}) =  0.497\n"
     ]
    }
   ],
   "source": [
    "# Observations (n trials)\n",
    "n = 1000\n",
    "observations = coin_simulation(n)\n",
    "\n",
    "# Estimating the probability of event E\n",
    "E1 = \"{H}\"\n",
    "E2 = \"{T}\"\n",
    "\n",
    "P1 = estimating_prob(E1, observations)\n",
    "P2 = estimating_prob(E2, observations)\n",
    "\n",
    "print(\"P(\"+E1+\") = \", P1)\n",
    "print(\"P(\"+E2+\") = \", P2)"
   ]
  },
  {
   "cell_type": "markdown",
   "metadata": {},
   "source": [
    "### 3.4.- Naive Definition of Probability<a id='def_prob'></a>\n",
    "\n",
    "Assume all outcomes are equally likely and finite sample space.\n",
    "\n",
    "In general, if an event $E$ has m favorable outcomes with n possible equiprobable elementary outcomes, we would have $P(E) = m/n$.\n",
    "\n",
    "If $E$ is an event then:\n",
    "\n",
    "$\\;\\;\\;\\;\\;\\;\\;\\;\\;\\;\\;\\;\\;\\;\\;\\;\\;\\;\\;\\;\\;\\;\\;\\;\\;\\;\\;\\;\\;\\;\\;\\;\\;\\;\\;\\;\\;\\;\\;\\;\\;\\;\\;\\;\\;\\;\\;\\;\\;\\;\\;\\;\\;\\;P(E) =  $ <font size=\"4\">$\\frac{\\text{# favorable outcomes to E}}{\\text{# possible outcomes}} $</font>"
   ]
  },
  {
   "cell_type": "markdown",
   "metadata": {},
   "source": [
    "### 3.5.- Calculating probabilities - example: Rolling a die<a id='ex1'></a>\n",
    "\n",
    "-For a experiment of rolling a fair die:\n",
    "\n",
    "<font size=\"2\">$ \\Omega = \\{1,2,3,4,5,6\\} $</font> is a finite sample space.\n",
    "\n",
    "If we use a fair die, there is no way to prefer one side to the other, the most natural and common way is to make all the outcomes equally likely.\n",
    "\n",
    "We will use the Naive definition of probability to calculate different events of the event space of the experiment.<br><br>\n",
    "\n",
    "<font size=\"3\">**Event: Rolling a dice and getting 1**</font>\n",
    "\n",
    "$\\text{Possible equiprobable elementary outcomes} = \\{ 1, 2, 3, 4, 5, 6 \\}$\n",
    "\n",
    "$\\text{Favorables outcomes(E)} = \\{ 1 \\}$\n",
    "\n",
    "$P(E) = P( \\{ 1 \\} )$\n",
    "\n",
    "$P( E ) = $<font size=\"4\">$\\frac{n ( \\{ 1 \\} ) }{\\; n ( \\{ 1 , 2 , 3 , 4 , 5 , 6 \\} )}$</font>\n",
    "\n",
    "$P( E ) = $<font size=\"4\">$\\frac{1}{6}$</font>\n",
    "\n",
    "Since all outcomes are equally likely\n",
    "\n",
    "$P( \\{ 1 \\} ) = P( \\{ 2 \\} ) = P( \\{ 3 \\} ) = P( \\{ 4 \\} ) = P( \\{ 5 \\} ) = P( \\{ 6 \\} ) = 1/6 \\;\\ge \\; 0$<br><br> \n",
    "\n",
    "<font size=\"3\">**Event: Rolling a dice and getting 1 or 2 or 3 or 4 or 5 or 6**</font>\n",
    "\n",
    "This is the same that at least one of the elementary events in the entire sample space will occur.\n",
    "\n",
    "$\\text{Possible equiprobable elementary outcomes} = \\{ 1, 2, 3, 4, 5, 6 \\}$\n",
    "\n",
    "$\\text{Favorables outcomes}( \\Omega ) = \\{ 1, 2, 3, 4, 5, 6 \\}$\n",
    "\n",
    "$P( \\Omega ) = P( \\{ 1 , 2 , 3 , 4 , 5 , 6 \\} )$\n",
    "\n",
    "$P( \\Omega ) = $<font size=\"4\">$\\frac{n ( \\{ 1 , 2 , 3 , 4 , 5 , 6 \\} ) }{\\; n ( \\{ 1 , 2 , 3 , 4 , 5 , 6 \\} )}\n",
    "$</font>\n",
    "\n",
    "$P( \\Omega ) = $<font size=\"4\">$\\frac{6}{6}$</font>\n",
    "\n",
    "$P( \\Omega ) = 1 $<br><br>\n",
    "\n",
    "<font size=\"3\">**Event : Rolling a dice and getting an even number**</font>\n",
    "\n",
    "$\\text{Possible equiprobable elementary outcomes} = \\{ 1, 2, 3, 4, 5, 6 \\}$\n",
    "\n",
    "$\\text{Favorables outcomes(E)} = \\{ 2,4,6 \\}$\n",
    "\n",
    "$P(E) = P( \\{ 2 , 4 , 6 \\} )$\n",
    "\n",
    "$P( E ) = $<font size=\"4\">$\\frac{n ( \\{2 ,4 ,6 \\} ) }{\\; n ( \\{ 1 , 2 , 3 , 4 , 5 , 6 \\} )}$</font>\n",
    "\n",
    "$P( E ) = $<font size=\"4\">$\\frac{3}{6}$</font>\n",
    "\n",
    "$P( E ) = $<font size=\"4\">$\\frac{1}{2}$</font><br><br>\n",
    "\n",
    "Using the third axiom of probability:\n",
    "\n",
    "$P(\\text{ Rolling a dice and getting an even number }) = P(\\text{ Throwing a dice and getting a 2 or 4 or 6 })$\n",
    "\n",
    "$P( E ) = P( \\{ 2 \\} \\cup \\{ 4 \\} \\cup \\{ 6 \\} )$\n",
    "\n",
    "Since $\\{ 2 \\}, \\{ 4 \\}$ and $\\{ 6 \\}$ are mutually exclusive events:\n",
    "\n",
    "$P( E ) = P( \\{ 2 \\} ) + P( \\{ 4 \\} ) + P( \\{ 6 \\} )$\n",
    "\n",
    "$P( E ) = $<font size=\"4\">$\\frac{6}{6}+ \\frac{1}{6} + \\frac{1}{6}$</font>\n",
    "\n",
    "$P( E ) = $<font size=\"4\">$\\frac{1}{2}$</font><br><br>\n",
    "\n",
    "---\n",
    "\n",
    "The union of two events A and B, which is denoted $A\\cup B$, is the event that takes place whenever one of A or B does. \n",
    "\n",
    "The intersection of two events A and B, which is denoted $A\\cap B$, is the event that takes place only when both of A and B do. \n",
    "\n",
    "Both notions could be extended to any number of events.\n",
    "\n",
    "<br>"
   ]
  },
  {
   "cell_type": "markdown",
   "metadata": {},
   "source": [
    "### 3.6.- Probability rules deduced from axioms <a id='prob_rules'></a>\n",
    "\n",
    "For A and B : Events\n",
    "\n",
    "<font size=\"3\">**Monotonicity**</font>\n",
    "\n",
    "If $A \\subset B$ then $P(A) \\le P(B)$<br><br>\n",
    "\n",
    "E.g.\n",
    "\n",
    "$A$ : Rolling a dice and getting 2\n",
    "\n",
    "$B$ : Rolling a dice and getting an even number<br><br>\n",
    "\n",
    "$A = \\{ 2 \\}$\n",
    "\n",
    "$B = \\{ 2 ,  4  , 6 \\}$\n",
    "\n",
    "$ P(A) = 1/6 $\n",
    "\n",
    "$ P(B) = 1/2 $\n",
    "\n",
    "$ P(A) \\le P(B) $<br><br>\n",
    "\n",
    "\n",
    "<font size=\"3\">**Probability of empty set**</font>\n",
    "\n",
    "$P(\\{\\}) = 0$\n",
    "\n",
    "If $\\Omega$ is a finite set then usually the notions of an impossible event and an event with probability 0 coincide, although it may not be so. If $\\Omega$ is infinite then the two notions practically never coincide. A similar dichotomy exists for the notions of a certain event and that with probability 1.<br><br>\n",
    "\n",
    "\n",
    "<font size=\"3\">**The complement rule**</font>\n",
    "\n",
    "$P( A^c ) = 1 - P(A) $<br><br>\n",
    "\n",
    "E.g.\n",
    "\n",
    "$A$: Rolling a dice and getting an even number\n",
    "\n",
    "$A^c$ : Rolling a dice and getting an odd number<br><br>\n",
    "\n",
    "$A = \\{ 2, 4, 6 \\}$\n",
    "\n",
    "$A^c = \\{ 1 ,  3  , 5 \\}$\n",
    "\n",
    "$ P(A) = 1/2 $\n",
    "\n",
    "$ P(A^c) = 1/2 $<br><br>\n",
    "\n",
    "\n",
    "<font size=\"3\">**The numeric bound**</font>\n",
    "\n",
    "$0 \\le P(E) \\le 1 $<br><br>\n",
    "\n",
    "\n",
    "<font size=\"3\">**The addition law of probability**</font>\n",
    "\n",
    "It can be applied with any pair of events $A, B$\n",
    "\n",
    "$ P(A\\cup B) = P(A) + P(B) - P(A\\cap B) $<br><br>\n",
    "\n",
    "E.g.\n",
    "\n",
    "$A$ : Rolling a dice and getting an even number\n",
    "\n",
    "$B$ : Rolling a dice and getting 2<br><br>\n",
    "\n",
    "\n",
    "$A = \\{ 2 , 4, 6\\}$\n",
    "\n",
    "$B = \\{ 2 \\}$\n",
    "\n",
    "Since $A$ and $B$ are not mutually exclusive we can't use the third axiom to calculate the probability of $P(A\\cup B)$\n",
    "\n",
    "$ P(A) = 1/6 $\n",
    "\n",
    "$ P(B) = 1/2 $\n",
    "\n",
    "$ A\\cap B : \\text{Rolling a dice and getting an even number and 2} $\n",
    "\n",
    "$ A\\cap B =  \\{2,4,6\\} \\cap \\{2\\}$\n",
    "\n",
    "$ A\\cap B =  \\{2\\}$\n",
    "\n",
    "$ P(A\\cap B) = 1/6 $\n",
    "\n",
    "$ P(A\\cup B) = P(A) + P(B) - P(A\\cap B) $\n",
    "\n",
    "$ P(A\\cup B) = 1/6 + 1/2 - 1/6 $\n",
    "\n",
    "$ P(A\\cup B) = 1/2 $\n",
    "\n",
    "$ A\\cup B : \\text{Rolling a dice and getting an even number or 2} $\n",
    "\n",
    "$ A\\cup B =  \\{2,4,6\\} \\cup \\{2\\}$\n",
    "\n",
    "$ A\\cup B =  \\{2, 4, 6\\}$\n",
    "\n",
    "$ P(A\\cup B) = 1/2 $\n"
   ]
  },
  {
   "cell_type": "markdown",
   "metadata": {},
   "source": [
    "### 3.7.- Independent Events<a id='ind_events'></a>\n",
    "\n",
    "Two events are independent, statistically independent, or stochastically independent if the occurrence of one does not affect the probability of occurrence of the other (equivalently, does not affect the odds).\n",
    "\n",
    "$$ P(A\\cap B) = P(A)P(B) $$<br>\n",
    "\n",
    "E.g.\n",
    "\n",
    "We consider tossing two different coins as completely independent experiments, the outcome of one having no effect on the outcome of the other. \n",
    "\n",
    "$\\Omega = \\{HH, HT, TH, TT\\}$\n",
    "\n",
    "$P(\\{HT\\}) =  P(\\{H\\})·P(\\{T\\}) = 1/2·1/2 = 1/4$"
   ]
  },
  {
   "cell_type": "code",
   "execution_count": 2,
   "metadata": {},
   "outputs": [],
   "source": [
    "# Hasta ahora hemos usado la representacion de eventos P(A), ahora usaremos random variable"
   ]
  },
  {
   "cell_type": "markdown",
   "metadata": {},
   "source": [
    "## 4.- Random variables<a id='rv'></a>"
   ]
  },
  {
   "cell_type": "markdown",
   "metadata": {},
   "source": [
    "## 4.1.- Definition<a id='def_rv'></a>\n",
    "\n",
    "In addition to a sample space, an experiment may be profitably associated with what is known as a random variable. $X$ is a random variable if its values are not determined with certainty but come from a sample space defined by a random experiment. Random variable $X$  values are represented by $x$.\n",
    "\n",
    "A random variable is a function defined from a sample space $\\Omega =$ <font size=\"3\"> $\\{s_1,s_2,s_3,\\dots,s_n\\} $</font>  to a set of real numbers $\\mathbb{R}$.\n",
    "\n",
    "<font size=\"4\"> $$X: \\Omega \\to \\mathbb{R}$$</font>\n",
    "\n",
    "$X=f(s)$\n",
    "\n",
    "$X_{\\Omega} = f(\\Omega) = \\{f(s_1), f(s_2), f(s_3), \\dots, f(s_n)\\}$\n",
    "\n",
    "$X_{\\Omega} = f(\\Omega) = \\{x_1, x_2, x_3, \\dots, x_p\\} \\;\\;\\;\\; \\text{with} \\; p \\le n\\;\\;\\;\\;\\;\\;\\;\\;$   (Due to some $f(s_i) = f(s_j)\\,,\\; \\text{for}\\;\\; i \\neq j $)\n",
    "\n",
    "We need the concept of random variables because it help us define more concisely a event.<br><br>\n",
    "\n",
    "<font size=\"3\">**Event representation with random variables**</font>\n",
    "\n",
    "An event can be written as indicators involving random variables. For example , if $X$ is a random variable defined on the sample space $ \\Omega $, the event\n",
    "\n",
    "$ \\{s\\} = \\{ s \\in \\Omega \\;|\\; u \\le f(s) \\le v \\}$ = $\\{ s \\in \\Omega \\;|\\; u \\le X \\le v \\}$ and\n",
    "\n",
    "can be written more concisely as\n",
    "\n",
    "$u \\le X \\le v$\n",
    "\n",
    "Considering $E=\\{E_1,E_2,\\dots,E_n\\}$ a set of elementary events<br><br>\n",
    "\n",
    "|$E$|$E_1$|$E_2$|$E_3$|$\\dots$|$E_n$|\n",
    "|---|---|---|---|---|---|\n",
    "|$\\{s\\}$|$\\{s_1\\}$|$\\{s_2\\}$|$\\{s_3\\}$|$\\dots$|$\\{s_n\\}$|\n",
    "|$f(s)$|$f(s_1)$|$f(s_2)$|$f(s_3)$|$\\dots$|$f(s_n)$|\n",
    "|$X$|$x_1$|$x_2$|$x_3$|$\\dots$|$x_n$|<br><br>\n",
    "\n",
    "$E_1 = \\{s_1\\} = \\{s: f(s)=f(s_1)\\}= \\{s: X=x_1\\}$\n",
    "\n",
    "$P(E_1)=P(\\{s_1\\})=P(X=x_1)$<br><br>\n",
    "\n",
    "\n",
    "-For our experiment of rolling a fair die:\n",
    "\n",
    "<font size=\"2\">$ \\Omega = \\{1,2,3,4,5,6\\} $</font>\n",
    "\n",
    "**Example 1**\n",
    "\n",
    "$X$: Identity function\n",
    "\n",
    "$X=f(s)=s$\n",
    "\n",
    "$X_{\\Omega}=f(\\Omega) = \\{f(1), f(2), f(3), f(4), f(5), f(6)\\}$\n",
    "\n",
    "$X_{\\Omega}=f(\\Omega) = \\{1, 2, 3, 4, 5, 6\\} = \\{x_1, x_2, x_3, x_4, x_5, x_6\\}$\n",
    "\n",
    "Event: $\\{ 1, 2\\}$\n",
    "\n",
    "$\\{ 1, 2\\} = \\{s: 1 \\le f(s) \\le 2\\} = \\{s: f(s) < 3\\}= \\{s: X < 3\\}$\n",
    "\n",
    "$P(\\{ 1, 2\\}) = P(X < 3) = 1/3$\n",
    "\n",
    "You can think of this like that the probability of rolling a die a getting 1 or 2 is equal to the probability of rolling a die and getting a value less than 3.\n",
    "\n",
    "Similarly,\n",
    "\n",
    "$P(\\{4, 5, 6\\}) = P(X > 3) = 1/2$.\n",
    "\n",
    "$P(\\{2, 4, 6\\}) = P(X\\text{ is even}) = 1/2$,\n",
    "\n",
    "$P(\\{1, 2, 4, 5\\}) = P(X \\text{ is not divisible by 3}) = 2/3$,\n",
    "\n",
    "$P(\\{2, 3, 5\\}) = P(X \\text{ is prime}) = 1/2$.\n",
    "\n",
    "The introduction of a random variable allows for naming various sets in a convenient manner.<br><br>\n",
    "\n",
    "**Example 2**\n",
    "\n",
    "Many random variables may be associated with a experiment e.g. the square of the outcome:\n",
    "\n",
    "$X=f(s)=s^2$\n",
    "\n",
    "$X_{\\Omega}=f(\\Omega) = \\{f(1), f(2), f(3), f(4), f(5), f(6)\\}$\n",
    "\n",
    "$X_{\\Omega}=f(\\Omega) = \\{1, 4, 9, 16, 25, 36\\} = \\{x_1, x_2, x_3, x_4, x_5, x_6\\}$\n",
    "\n",
    "Event: $\\{4\\}$\n",
    "\n",
    "$\\{4\\} = \\{s: f(s)=16\\} = \\{s: X=16\\}$\n",
    "\n",
    "$P(\\{ 4\\}) = P(X = 16) = 1/6$\n",
    "\n",
    "You can think of this like that the probability of rolling a die a getting 4 is equal to the probability of rolling a die and that the square of the value obtained is 16.\n",
    "\n",
    "This examples are kind of dumb but we will see the real utility of random variables in the next experiment."
   ]
  },
  {
   "attachments": {
    "image.png": {
     "image/png": "[encoded data removed]"
    }
   },
   "cell_type": "markdown",
   "metadata": {},
   "source": [
    "### 4.2.- Random variables - example: Rolling two dies<a id='ex2'></a>\n",
    "\n",
    "When rolling two different die, the sample space consists of $36$ equiprobable elementary events each with probability $1/36$.\n",
    "\n",
    "$ \\Omega = \\{(1,1),(1,2),(1,3),(1,4),(1,5),(1,6),\\;\\;\\dots \\;\\;,(6,4),(6,5),(6,6)\\} $\n",
    "\n",
    "Let's suppose in this experiment we only care about the score (sum of the values) obtained, we need to use a random variable $X$ equal to the sum of the two die.\n",
    "\n",
    "$ X= f(s)=\\text{sum}(s)$\n",
    "\n",
    "$X_{\\Omega}=f(\\Omega) = \\{2, 3, 4, 5, 6, 7, 8, 9, 10, 11, 12\\}$\n",
    "\n",
    "The possible sums of the two die range from $2$ through $12$ and the number of favorable events can be observed from the table below:<br><br>\n",
    "\n",
    "![image.png](attachment:image.png)\n",
    "\n",
    "<br><br>\n",
    "\n",
    "Using $X$ for the random variable equal to the sum of the two die:\n",
    "\n",
    "$X = f(s) = \\text{sum}(s)$\n",
    "\n",
    "Let's calculate the probability of the events $A,B$\n",
    "\n",
    "$A = \\{(1,1)\\} = \\{s: f(s)=2\\}= \\{s: X=2\\}$\n",
    "\n",
    "$P(A) = P(\\{(1,1)\\} )=P(X=2)$\n",
    "\n",
    "$P(X = 2)  = P(\\{(1,1)\\}) = 1/36$<br><br>\n",
    "\n",
    "$B = \\{(1,2),(2,1)\\} = \\{s: f(s)=3\\}= \\{s: X=3\\}$\n",
    "\n",
    "$P(B) = P(\\{(1,2),(2,1)\\})=P(X=3)$\n",
    "\n",
    "$P(X = 3)  = P(\\{(1,2)\\}\\cup \\{(2,1)\\}) = P(\\{(1,2)\\}) + P(\\{(2,1)\\}) = 2/36 = 1/18$"
   ]
  },
  {
   "cell_type": "markdown",
   "metadata": {},
   "source": [
    "### 4.3.- Algebra of random variables<a id='alg_rv'></a>\n",
    "\n",
    "Random variables have been introduced as functions defined on sample spaces. The simplest ones are the identity function, $X=f(s) = s$, and the indicator functions of event A: $X=f(s) = 1$ if $s$ is favorable to event $A$, and $X=f(s) = 0$, if it is not. Probability itself is a random variable, although a variable with very specific properties. RV is a universal abbreviation for \"random variable\".\n",
    "\n",
    "It is customary to use capital (and often bold capital) letters to denote random variables. For example, on the sample space of $2$ tosses of a coin the number of heads is an RV $H$:\n",
    "\n",
    "$\\Omega = \\{HH,HT,TH,TT\\}$\n",
    "\n",
    "$H=f(s)=\\text{countH}(s)$\n",
    "\n",
    "$H(HH) = 2, H(HT) = H(TH) = 1, H(TT) = 0$.\n",
    "\n",
    "$H_{\\Omega}=\\{0, 1, 2\\}$<br><br>\n",
    "\n",
    "Associated with every random variable is a probability distribution (function) defined on the range of the RV:\n",
    "\n",
    "$f_X(x) = P(X = x)$.\n",
    "\n",
    "So, for example, $f_H$ is a function defined on the set $H_{\\Omega} = \\{0, 1, 2\\}$ with values\n",
    "\n",
    "$f_H(0) = 1/4$,\n",
    "\n",
    "$f_H(1) = 1/2$,\n",
    "\n",
    "$f_H(2) = 1/4$.<br><br>\n",
    "\n",
    "-All that can be done with two functions defined on the same domain, can be done with two random variables defined on the same sample space. For example, if two random variables $H$ and $T$ are numeric and defined on the same sample space $\\Omega$ then $H + T$ is another random variable defined as\n",
    "\n",
    "$$(H + T)(s) = H(s) + T(s)$$<br>\n",
    "\n",
    "E.g.\n",
    "\n",
    "$H = f_1(s) = \\text{countH}(s)$\n",
    "\n",
    "$T = f_2(s) = \\begin{cases} 1  & \\quad \\text{If the first toss is head }\\\\0  & \\quad \\text{ otherwise}\n",
    "  \\end{cases} $\n",
    "\n",
    "$R = H + T = f_1(s) + f_2(s)$\n",
    "\n",
    "Considering $E=\\{E_1,E_2,E_3,E_4\\}$ a set of elementary events\n",
    "\n",
    "|$E$|$E_1$|$E_2$|$E_3$|$E_4$|\n",
    "|---|---|---|---|---|\n",
    "|$s$|$HH$|$HT$|$TH$|$TT$|\n",
    "|$H$|$2$|$1$|$1$|$0$|\n",
    "|$T$|$1$|$1$|$0$|$0$|\n",
    "|$R$|$3$|$2$|$1$|$0$|\n",
    "\n",
    "Here we can conclude that $R$ is another random variable.<br><br>\n",
    "\n",
    "\n",
    "-A constant random variable can be added to any other. (An RV is constant if it takes on only one value and that - naturally enough - with the probability of 1. It may be considered as defined on any finite sample space and assigned arbitrary probabilities at every elementary outcome, subject to the sole restriction that those proabilities add up to 1).<br><br>\n",
    "\n",
    "E.g.\n",
    "\n",
    "$H = f_1(s) = \\text{countH}(s)$\n",
    "\n",
    "$T = f_2(s) = 10 $\n",
    "\n",
    "$R = H + T = f_1(s) + f_2(s)$\n",
    "\n",
    "Considering $E=\\{E_1,E_2,E_3,E_4\\}$ a set of elementary events\n",
    "\n",
    "|$E$|$E_1$|$E_2$|$E_3$|$E_4$|\n",
    "|---|---|---|---|---|\n",
    "|$s$|$HH$|$HT$|$TH$|$TT$|\n",
    "|$H$|$2$|$1$|$1$|$0$|\n",
    "|$T$|$10$|$10$|$10$|$10$|\n",
    "|$R$|$12$|$11$|$11$|$10$|\n",
    "\n",
    "Here we can conclude that $R$ is another random variable and that:\n",
    "\n",
    "$P(R=12) = P(H=2) =1/4$\n",
    "\n",
    "$P(R=11) = P(H=1) =1/2$\n",
    "\n",
    "$P(R=10) = P(H=0) =1/4$<br><br>\n",
    "\n",
    "\n",
    "-Also, for a function $f$ defined on all possible values of a random variable $X$ we can define a random variable $Y = f(X)$ for a value $x$ of $X$ takes on the value $y = f(x)$ with the same probability:\n",
    "\n",
    "$$P(Y = f(x)) = P(X = x)$$<br>\n",
    "\n",
    "E.g.\n",
    "\n",
    "$\\Omega = \\{HH,HT,TH,TT\\}$\n",
    "\n",
    "$X=f_1(s)=\\text{countH}(s)$\n",
    "\n",
    "$X_{\\Omega}=\\{0, 1, 2\\}$\n",
    "\n",
    "All possible values of the random variable $X_{\\Omega} =\\{x_1,x_2,\\dots,x_n\\}$ is like the sample space, so the random variable $Y$ is a function defined on the sample space ($X_\\Omega$).\n",
    "\n",
    "$Y=f_2(x)=x^2$\n",
    "\n",
    "$Y_{X_{\\Omega}} = \\{0, 1, 4\\}$\n",
    "\n",
    "\n",
    "Considering $E=\\{E_1,E_2,E_3,E_4\\}$ a set of elementary events\n",
    "\n",
    "|$E$|$E_1$|$E_2$|$E_3$|$E_4$|\n",
    "|---|---|---|---|---|\n",
    "|$s$|$HH$|$HT$|$TH$|$TT$|\n",
    "|$X$|$2$|$1$|$1$|$0$|\n",
    "|$Y$|$4$|$1$|$1$|$0$|\n",
    "\n",
    "Here we can conclude that $Y$ is another random variable and that:\n",
    "\n",
    "$P(Y=4)=P(X=2)=1/4$\n",
    "\n",
    "$P(Y=1)=P(X=1)=1/2$\n",
    "\n",
    "$P(Y=0)=P(X=0)=1/4$"
   ]
  },
  {
   "cell_type": "markdown",
   "metadata": {},
   "source": [
    "## 5.- Other types of sample spaces<a id='other'></a>"
   ]
  },
  {
   "cell_type": "markdown",
   "metadata": {},
   "source": [
    "### 5.1.- Infinite Discrete Sample Spaces<a id='idss'></a>\n",
    "\n",
    "**First tail**. The experiment is to repeatedly toss a coin until first tail shows up. Possible outcomes are sequences of H that, if finite, end with a single T, and an infinite sequence of H:\n",
    "\n",
    "$\\Omega = \\{T, HT, HHT, HHHT, ..., \\{HHH...\\}\\}$.\n",
    "\n",
    "As we shall see elsewhere, this is a remarkable space that contains a not impossible event whose probability is $0$. One natural random variable for this experiment is the length of an outcome. It draws values from the set of whole numbers augmented by the symbol of infinity:\n",
    "\n",
    "$X_\\Omega=\\{1, 2, 3, 4, \\dots, \\infty\\}$.\n",
    "\n",
    "We obtain a curious sample space tossing the coin until the first tail comes up. The probability $P(T)$ that it will happen on the first toss equals $1/2$. The probability $P(HT)$ that it will happen on the second toss is evaluated under the assumption that the first toss showed heads, for, otherwise, the experiment would have stopped right after the first stop. The outcome of the first toss has no effect on the outcome of the second,\n",
    "\n",
    "$P(HT) = P(H)P(T) = 1/2 · 1/2 = 1/4$.\n",
    "\n",
    "Continuing in this way, $P(HHT) = 1/2·1/2·1/2 = 1/8$ is the probability of getting the tails on the third toss; $P(HHHT) = 1/16$ is the probability of getting the tails on the fourth toss, and so on. The events are mutually exclusive and exhaustive:\n",
    "\n",
    "$P(T) + P(HT) + P(HHT) + \\dots\t= 1/2 + 1/4 + 1/8 + \\dots$\n",
    "\n",
    "$P(T) + P(HT) + P(HHT) + \\dots\t= 1/2·1 / (1 - 1/2)$\n",
    "    \n",
    "$P(T) + P(HT) + P(HHT) + \\dots\t= 1$,\n",
    "    \n",
    "as the sum of a geometric series starting at $1/2$ with the factor also of $1/2$.\n",
    "\n",
    "The interpretation of the infinite sum $1/2 + 1/4 + 1/8 + \\dots$ is that this is the probability of the tails showing up in a finite number of steps. This probability is 1 so that one should expect to get the tails sooner or later. For this sample space, an event with probability $0$ is conceivable but practically impossible. In continuous sample spaces, events with probability $0$ are a regular phenomenon and far from being impossible.\n",
    "\n",
    "Lets see the probability of the event in which the outcome $T$ never occurs.\n",
    "\n",
    "$P(HHH\\dots) = \\frac{1}{2} . \\frac{1}{2}. \\frac{1}{2}. \\dots$\n",
    "\n",
    "$P(HHH\\dots) \\to 0$\n",
    "\n",
    "This event is practically impossible because it requires an infinite number of coin tosses. Deservedly it is assigned the probability of  0.\n"
   ]
  },
  {
   "cell_type": "markdown",
   "metadata": {},
   "source": [
    "### 5.2.- Continuous Sample Spaces<a id='css'></a>\n",
    "\n",
    "<font size=\"2\">**Arrival time**</font>. The experimental setting is a metro (underground) station where trains pass (ideally) with equal intervals. A person enters the station. The experiment is to note the time of arrival past the departure time of the last train. If $T$ is the interval between two consecutive trains, then the sample space for the experiment is the interval $[0, T]$, or\n",
    "\n",
    "$[0, T] = {x: 0 \\le X \\le T}$.<br><br>\n",
    "\n",
    "<font size=\"2\">**Chord length**</font>. Given a circle of radius $R$, the experiment is to randomly select a chord in that circle. There are many ways to accomplish such a selection. However the sample space is always the same:\n",
    "\n",
    "$\\{AB: \\text{A and B are points on a given circle}\\}$.\n",
    "\n",
    "One natural random variable defined on this space is the length of the chord.<br><br>\n",
    "\n",
    "-How do we define the probability of an arrival time $x$ in the first experiment or the length, in the second experiment?\n",
    "\n",
    "We need to have $P(\\Omega) = 1$, i.e., $P([0, T]) = 1$. On the other hand, in the first experiment, all points in the interval $[0, T]$ seem to be equiprobable. And, since the sum of the probabilities $P(x)$ must be $1$, it looks like we have arrived at an impossible situation. If $P(x)$ is non-zero, the sum of all probabilities will be infinite; if $P(x)$ is $0$, the sum will vanish as well. The apparent paradox is resolved by pointing out that the notion of the sum of a continuum of values is commonly replaced by an integral. The probabilities on a continuous sample space should be defined somehow differently and not point-by-point.\n",
    "\n",
    "On a continuous space we consider a non-negative function, say, $f(t)$ - called probability density function - that satisfies\n",
    "\n",
    "$$P(\\Omega) = \\int^{x_{max}}_{x_{min}} f(t)\\,dt = 1$$\n",
    " \t\n",
    "where the integration is over the interval $[x_{min}, x_{max}]$. And instead of talking of the probability of individual points $P(x)$ we are concerned with the probability of a point falling into a small interval around $x: [x - \\delta, x + \\delta]$ which is defined as the integral $ \\int^{x+\\delta}_{x-\\delta} f(t)\\,dt$, where now the integral is taken over the interval $[x - \\delta, x + \\delta]$.<br><br> \n",
    "\n",
    "-In the case of the first experiment, since all points in the interval $[0,T]$ seem to be equiprobable it makes sense to define $f(t) = 1/T$:\n",
    "\n",
    "$ P(\\Omega) = P(0, T) = P([0, T]) = \\int^T_0 f(t)\\,dt = \\int^T_0 1/T\\,dt = t/T \\; \\biggr\\rvert^{t = T}_{t=0} = 1$\n",
    "\n",
    "Then, for any subinterval $[a, b]$:\n",
    "\n",
    "$P(a, b) = P([a, b]) = \\int^b_a 1/T\\,dt = t/T \\; \\biggr\\rvert^{t = b}_{t=a} = (b - a) / T$.\n",
    "\n",
    "Along with probability density function $f$ we usually define the cumulative distribution function $F$ as the probability from the beginning of the interval of definition:\n",
    "\n",
    "$F(x) = \\int^x_0 1/T\\,dt = t/T \\; \\biggr\\rvert^{t = x}_{t=0} = (x - 0) / T = x/T$,<br><br>\n",
    "    \n",
    "or, setting in a more general case:\n",
    "\n",
    "$$F(x) =\\int^x_{x_{min}} f(t)\\,dt$$\n",
    "\n",
    "$$F(x_{min}) = 0 \\;\\;   and   \\;\\;F(x_{max}) = 1$$"
   ]
  },
  {
   "cell_type": "markdown",
   "metadata": {},
   "source": [
    "## 6.- Conditional probability<a id='cp'></a>"
   ]
  },
  {
   "cell_type": "markdown",
   "metadata": {},
   "source": [
    "### 6.1.- Definition<a id='def_cp'></a>\n",
    "\n",
    "In probability theory, conditional probability is a measure of the probability of an event occurring—given that another event has (by assumption, presumption, assertion or evidence) occurred.<br><br>\n",
    "\n",
    "The probability of getting a score of $7$ when rolling two die is $1/6 (= 6/36)$ because the sample space consists of $36$ equiprobable elementary outcomes of which $6$ are favorable to the event of getting $7$ as the sum of two die. Denote this event $A: P(A) = 1/6$.\n",
    "\n",
    "$ A = \\{(1,6),(6,1),(2,5),(5,2),(3,4),(4,3)\\} $\n",
    "\n",
    "Consider another event $B$ which is having at least one $2$. There are still $36$ elementary outcomes of which $11$ are favorable to $B$; therefore, $P(B) = 11/36$. \n",
    "\n",
    "$ B = \\{(1,2),(2,1),(2,2),(2,3),(3,2),(2,4),(4,2),(2,5),(5,2),(2,6),(6,2)\\} $\n",
    "\n",
    "We do not know whether $B$ happens or not, but this is a legitimate question to inquire as to what happens if it does. More specifically, what happens to the probability of $A$ under the assumption that $B$ took place? This is the definition of conditional probability $P(A\\mid B)$.\n",
    "\n",
    "$$ P(A\\mid B) : \\text{Probability of A given B} $$\n",
    "\n",
    "The assumption that $B$ took place reduces the set of possible outcomes to $11$. Of these, only two $\\{(2,5),(5,2)\\}$ , are favorable to $A$. Since this is reasonable to assume that the $11$ elementary outcomes are equiprobable, the probability of $A$ under the assumption that $B$ took place equals $2/11$. This probability is denoted $P(A|B)$ - the probability of $A$ assuming $B$: $P(A|B) = 2/11$. More explicitly $P(A|B)$ is called the conditional probability of $A$ assuming $B$.\n",
    "\n",
    "$$P(A\\mid B) = \\frac{n(\\{(2,5),(5,2)\\}}{n(\\{(1,2),(2,1),(2,2),(2,3),(3,2),(2,4),(4,2),(2,5),(5,2),(2,6),(6,2)\\})}$$<br>\n",
    "\n",
    "$$P(A\\mid B) = \\frac{2}{11}$$<br>\n",
    "\n",
    "Of course, for any event $A$, $P(A) = P(A|\\Omega)$, where, by convention, $\\Omega$ is the universal event - the whole of the sample space - for which all available elementary outcomes are favorable.\n",
    "\n",
    "Retracing the steps in the example, this is the common definition of the conditional probability:\n",
    "\n",
    "$$P(A\\mid B)=\\frac{P(A\\cap B)}{P(B)}$$<br>\n",
    "\n",
    "E.g.\n",
    "\n",
    "$A\\cap B = \\{(2,5),(5,2)\\}\\;\\;\\; \\to \\;\\;\\; P(A\\cap B)=2/36$\n",
    "\n",
    "$ B = \\{(1,2),(2,1),(2,2),(2,3),(3,2),(2,4),(4,2),(2,5),(5,2),(2,6),(6,2)\\} \\;\\; \\to \\;\\; P(B)=11/36 $\n",
    "\n",
    "$P(A\\mid B) = $ <font size=\"4\">$\\frac{\\frac{2}{36}}{\\frac{11}{36}}$</font> $ = $<font size=\"4\">$\\frac{2}{11} $</font>\n",
    "\n"
   ]
  },
  {
   "cell_type": "markdown",
   "metadata": {},
   "source": [
    "### 6.2.- Bayes' theorem<a id='bayes'></a>\n",
    "This theorem is a consequence of the conditional probability.\n",
    "\n",
    "We start with \n",
    "\n",
    "$P(B|A)=\\frac{P(A\\cap B)}{P(A)} \\to P(A\\cap B)=P(B|A)P(A)$\n",
    "\n",
    "And then we replace \n",
    "\n",
    "$P(A\\cap B)\\;\\;\\;\\;in\\;\\;\\;P(A|B)=\\frac{P(A\\cap B)}{P(B)}$\n",
    "\n",
    "$P(A|B)=\\frac{P(B|A)P(A)}{P(B)}$<br><br>\n",
    "\n",
    "-If two events A and B are independent events:  $P(A\\cap B)=P(A)P(B)$\n",
    "\n",
    "$P(A|B)=\\frac{P(A\\cap B)}{P(B)}$\n",
    "\n",
    "$P(A|B)=\\frac{P(A)P(B)}{P(B)}$\n",
    "\n",
    "$P(A|B)=P(A)$"
   ]
  },
  {
   "cell_type": "markdown",
   "metadata": {},
   "source": [
    "## 7.- Probability distributions<a id='prob_dist'></a>"
   ]
  },
  {
   "cell_type": "markdown",
   "metadata": {},
   "source": [
    "## 7.1.- Definition<a id='def_prob_dist'></a>\n",
    "\n",
    "A probability distribution is a statistical function that describes all the possible values and likelihoods that a random variable can take within a given range, this range will be bounded between the minimum and maximum possible values. Probability distributions are generally divided into two classes, distinguished from each other by the corresponding random variable (Discrete probability distribution and Continuous probability distribution).\n",
    "\n",
    "\n",
    "\n",
    "$$P(X=x) \\;\\;\\;\\; \\text{Discrete probability distribution}$$\n",
    "\n",
    "$$\\;\\;\\;\\;\\;\\;\\;\\;\\;f(x) \\;\\;\\;\\;\\;\\;\\; \\text{Continuous probability distribution}$$\n",
    "\n",
    "$$X \\in [x_{min},x_{max}]$$\n",
    "\n",
    "where $X$ is the random variable, $x$ is the value that $X$ can take and $f$ is the probability distribution.<br><br>\n",
    "\n",
    "-When the random variable is discrete, it is sufficient to specify a probability function $P$ assigning a probability to each possible outcome: for example, when throwing a fair die, each of the six values 1 to 6 has the probability 1/6.\n",
    "\n",
    "$P\\,(X=1) =  P\\,(X=2) =  P\\,(X=3) = P\\,(X=4) = P\\,(X=5) = P\\,(X=6) = 1/6$\n",
    "\n",
    "The probability of an event is then defined to be the sum of the probabilities of the outcomes that satisfy the event; for example, the probability of the event \"the dice rolls an even value\" is\n",
    "\n",
    "$P\\,(\\text{X is an even value}) = P\\,(X=2)+P\\,(X=4)+P\\,(X=6)=1/6 + 1/6 +1/6=1/2$<br><br>\n",
    "\n",
    "-In contrast, when a random variable takes values from a continuum then typically, any individual outcome has probability zero and only events that include infinitely many outcomes, such as intervals (e.g. subinterval $[a, b]$), can have positive probability.\n",
    "\n",
    "$$P([a, b]) = \\int^b_a f(t)\\,dt $$\n",
    "\n",
    "For example, consider measuring the weight of a piece of ham in the supermarket, and assume the scale has many digits of precision. The probability that it weighs exactly $500 g$ is zero, as it will most likely have some non-zero decimal digits. Nevertheless, one might demand, in quality control, that a package of \"$500 g$\" of ham must weigh between $490 g$ and $510 g$ with at least $98\\%$, and this demand is less sensitive to the accuracy of measurement instruments.\n",
    "\n",
    "$$P([490, 510]) = \\int^{510}_{490} f(t)\\,dt $$<br><br>\n",
    "\n",
    "<font size=\"3\">**Cumulative distribution function**</font>\n",
    "\n",
    "It is the probability that $X$ will take a value less than or equal to $x$.\n",
    "\n",
    "$$ F_X(x) = P(X<x)$$\n",
    "\n",
    "In the case of a scalar continuous distribution, it gives the area under the probability density function from $-\\infty$ to $x$.<br><br>\n",
    "\n",
    "-Probability distributions are important because they can represent the probabilistic behavior of a experiment based on a number of factors. These factors include the distribution's mean (average) and standard deviation. We will see this in the next section."
   ]
  },
  {
   "cell_type": "markdown",
   "metadata": {},
   "source": [
    "### 7.2.- Discrete probability distribution<a id='dpd'></a>\n",
    "\n",
    "A discrete probability distribution is applicable to the scenarios where the set of possible outcomes is discrete (e.g. a coin toss, a roll of a dice), and the probabilities are here encoded by a discrete list of the probabilities of the outcomes, known as the probability mass function (PMF). A discrete probability distribution is a probability distribution that can take on a countable number of values. In the case where the range of values is countably infinite, these values have to decline to zero fast enough for the probabilities to add up to 1 like the first tail experiment we saw.<br><br>\n",
    "\n",
    "$$PMF: f_X(x) = f(x) = P(X=x)$$\n",
    "\n",
    "$$ CDF: F_X(x) = F(x) = P(X<x)$$\n",
    "\n",
    "$$X \\in [x_{min},x_{max}]$$<br><br>\n",
    "\n",
    "Well-known discrete probability distributions used in statistical modeling include the discrete uniform distribution, the Poisson distribution, the Bernoulli distribution, the binomial distribution, and others.\n"
   ]
  },
  {
   "cell_type": "markdown",
   "metadata": {},
   "source": [
    "<font size=\"3\">**7.2.1.- Discrete uniform distribution**</font><a id='dud'></a>\n",
    "\n",
    "This is the most simple discrete probability distribution, the discrete uniform distribution is a symmetric probability distribution wherein a finite number of values are equally likely to be observed; every one of n values has equal probability 1/n.\n",
    "\n",
    "Range: $ [a,b]$\n",
    "\n",
    "Notation: $U\\{a,b\\}$\n",
    "\n",
    "Parameters: $a,b$\n",
    "\n",
    "PMF: $f(x) = \\frac{1}{b-a+1}$\n",
    "\n",
    "<img src=\"https://upload.wikimedia.org/wikipedia/commons/thumb/1/1f/Uniform_discrete_pmf_svg.svg/1280px-Uniform_discrete_pmf_svg.svg.png\" width =\"300\" height=300 > <br>\n",
    "\n",
    "E.g.\n",
    "\n",
    "Now we can say that the experiment of rolling a die follows a discrete uniform distribution with a range $[1,6]$\n",
    "\n",
    "-We will calculate the probability of $P(X=x)$."
   ]
  },
  {
   "cell_type": "code",
   "execution_count": 41,
   "metadata": {
    "scrolled": false
   },
   "outputs": [
    {
     "name": "stdout",
     "output_type": "stream",
     "text": [
      "Possible values that rv X can take:  [1, 2, 3, 4, 5, 6]\n",
      "P(X=1) =  0.16666666666666666\n"
     ]
    }
   ],
   "source": [
    "# Scipy library provides a lot of distributions including discrete uniform distribution\n",
    "\n",
    "# We only need parameters a, b to represent the discrete uniform distribution \n",
    "a = 1\n",
    "b = 6\n",
    "\n",
    "# Possible values that the random variable X can take\n",
    "X=list(range(a,b+1))\n",
    "print(\"Possible values that rv X can take: \",X)\n",
    "\n",
    "# The parameter loc is to shift the distribution\n",
    "rv = randint(low=a, high=b+1, loc=0)\n",
    "\n",
    "# Probability of value x (We use pmf method)\n",
    "x = 1\n",
    "p = rv.pmf(x)\n",
    "print(\"P(X=\"+str(x)+\") = \", p)"
   ]
  },
  {
   "cell_type": "markdown",
   "metadata": {},
   "source": [
    "Now we will plot the discrete uniform distribution of the experiment of rolling a die"
   ]
  },
  {
   "cell_type": "code",
   "execution_count": 90,
   "metadata": {},
   "outputs": [
    {
     "data": {
      "image/png": "[encoded data removed]",
      "text/plain": [
       "<Figure size 432x288 with 1 Axes>"
      ]
     },
     "metadata": {
      "needs_background": "light"
     },
     "output_type": "display_data"
    }
   ],
   "source": [
    "# Plotting the uniform discrete distribution of the experiment\n",
    "fig, ax = plt.subplots(1, 1)\n",
    "ax.plot(X, rv.pmf(X), 'bo', ms=8)\n",
    "ax.vlines(X, 0,rv.pmf(X), colors='b',linestyles='-', lw=2, alpha=0.5)\n",
    "plt.show()"
   ]
  },
  {
   "cell_type": "markdown",
   "metadata": {},
   "source": [
    "<font size=\"3\">**7.2.2.- Poisson distribution**</font><a id='pd'></a>\n",
    "\n",
    "It is a discrete probability distribution that expresses the probability of a given number of events occurring in a fixed interval of time or space if these events occur with a known constant mean rate and independently of the time since the last event.\n",
    "\n",
    "Notation: $Pois(\\lambda)$\n",
    "\n",
    "Parameters: $\\lambda : \\text{expected number of events in the fixed interval}$\n",
    "\n",
    "PMF: $f(k) = \\frac{\\lambda^ke^{-\\lambda}}{k!}$\n",
    "\n",
    "<img src=\"https://upload.wikimedia.org/wikipedia/commons/thumb/1/16/Poisson_pmf.svg/1024px-Poisson_pmf.svg.png\" width =\"300\" height=300 ><br> \n",
    "\n",
    "**Assumptions and validity**\n",
    "\n",
    "The Poisson distribution is an appropriate model if the following assumptions are true:\n",
    "\n",
    "* k is the number of times an event occurs in an interval and k can take values 0, 1, 2, ....\n",
    "\n",
    "* The occurrence of one event does not affect the probability that a second event will occur. That is, events occur independently.\n",
    "\n",
    "* The average rate at which events occur is independent of any occurrences. For simplicity, this is usually assumed to be constant, but may in practice vary with time.\n",
    "\n",
    "* Two events cannot occur at exactly the same instant; instead, at each very small sub-interval exactly one event either occurs or does not occur.\n",
    "\n",
    "If these conditions are true, then k is a Poisson random variable, and the distribution of k is a Poisson distribution.<br><br>\n",
    "\n",
    "E.g.\n",
    "\n",
    "Calculate the probability of $6$ patients arriving in an emergency room between 10 and 11pm, if the expected number of patients arriving the emergency room between 10 and 11pm is $4.8$.\n",
    "\n",
    "The number of patients arriving could be $0, 1, 2, \\dots$\n",
    "\n",
    "Since this experiment follows a poisson distribution, we only need this parameter $\\lambda = 4.8$\n",
    "\n",
    "-We will calculate the probability of number of events k $P(k)$."
   ]
  },
  {
   "cell_type": "code",
   "execution_count": 22,
   "metadata": {},
   "outputs": [
    {
     "name": "stdout",
     "output_type": "stream",
     "text": [
      "P(K=6) =  0.13979814691510614\n"
     ]
    }
   ],
   "source": [
    "# Scipy library provides a lot of distributions including the poisson distribution\n",
    "\n",
    "# We only need parameter lambda to represent the poisson distribution \n",
    "lambda_ = 4.8\n",
    "\n",
    "# Values of K to plot\n",
    "K=list(range(0,20))\n",
    "\n",
    "# The parameter lambda has an effect to shift the distribution\n",
    "rv = poisson(lambda_)\n",
    "\n",
    "# Probability of number of events k (We use pmf method)\n",
    "k = 6\n",
    "p = rv.pmf(k)\n",
    "print(\"P(K=\"+str(k)+\") = \", p)"
   ]
  },
  {
   "cell_type": "markdown",
   "metadata": {},
   "source": [
    "Now we will plot the poisson distribution of the experiment"
   ]
  },
  {
   "cell_type": "code",
   "execution_count": 21,
   "metadata": {},
   "outputs": [
    {
     "data": {
      "image/png": "[encoded data removed]",
      "text/plain": [
       "<Figure size 432x288 with 1 Axes>"
      ]
     },
     "metadata": {
      "needs_background": "light"
     },
     "output_type": "display_data"
    }
   ],
   "source": [
    "# Plotting the uniform discrete distribution of the experiment\n",
    "fig, ax = plt.subplots(1, 1)\n",
    "ax.plot(K, rv.pmf(K), 'bo', ms=8)\n",
    "ax.plot(K, rv.pmf(K), 'b',lw=2, alpha=0.5, ms=8)\n",
    "plt.show()"
   ]
  },
  {
   "cell_type": "markdown",
   "metadata": {},
   "source": [
    "### 7.3.- Continuous probability distribution<a id='cpd'></a>\n",
    "\n",
    "On the other hand, continuous probability distributions are applicable to scenarios where the set of possible outcomes can take on values in a continuous range (e.g. real numbers). They are probability distributions whose support is an uncountable set, such as an interval in the real line. In this case, probabilities are typically described by a probability density function (pdf). The probability density function describes the infinitesimal probability of any given value, and the probability that the outcome lies in a given interval can be computed by integrating the probability density function over that interval.<br><br>\n",
    "\n",
    "$$PDF: f_X(x) = f(x)\\;\\; | \\;\\; P(a<X<b) = \\int^{b}_{a} f(x)\\,dx$$\n",
    "\n",
    "$$ CDF: F_X(x) = F(x) = \\int^{x}_{-\\infty} f(u)\\,du$$\n",
    "\n",
    "\n",
    "$$f(x) = \t\\frac{dF(x)}{dx}  $$\n",
    "\n",
    "$$X \\in [-\\infty,\\infty]$$<br><br>\n",
    "\n",
    "There are many examples of continuous probability distributions: uniform, normal, chi-squared, and others.\n",
    "\n",
    "Note: P(X=x) for continuous probability distribution is not defined."
   ]
  },
  {
   "cell_type": "markdown",
   "metadata": {},
   "source": [
    "<font size=\"3\">**7.3.1.- Uniform distribution (continuous)**</font><a id='ud'></a>\n",
    "\n",
    "The continuous uniform distribution or rectangular distribution is a family of symmetric probability distributions. It describes an experiment where there is an arbitrary outcome that lies between certain bounds (All the points in the interval are equally likely to be observed).\n",
    "\n",
    "Notation: $U(a,b)$\n",
    "\n",
    "Parameters: $-\\infty<a<b<\\infty$\n",
    "\n",
    "PDF: $f(x) =  \\begin{cases} \\frac{1}{b-a}  & \\quad \\text{for } x \\in [a,b]\\\\0  & \\quad \\text{ otherwise}\n",
    "  \\end{cases}\n",
    "$\n",
    "\n",
    "CDF: $F(x) = \\begin{cases} 0  & \\quad \\text{for } x < a\\\\\\frac{x-a}{b-a}  & \\quad x \\in [a,b]\\\\1  & \\quad \\text{for } x >b\n",
    "  \\end{cases}\n",
    "$\n",
    "\n",
    "\n",
    "<img src=\"https://upload.wikimedia.org/wikipedia/commons/thumb/9/96/Uniform_Distribution_PDF_SVG.svg/375px-Uniform_Distribution_PDF_SVG.svg.png\" width =\"300\" height=300 ><br>\n",
    "\n",
    "E.g. \n",
    "\n",
    "The experiment Arrival time we saw earlier follows a uniform distribution with a range $[0,T]$\n",
    "\n",
    "-Since this is a continuous distribution probability, we will calculate the probability of $P(X<x)$\n"
   ]
  },
  {
   "cell_type": "code",
   "execution_count": 12,
   "metadata": {
    "scrolled": false
   },
   "outputs": [
    {
     "name": "stdout",
     "output_type": "stream",
     "text": [
      "P(X<20) =  0.3333333333333333\n"
     ]
    }
   ],
   "source": [
    "# Scipy library provides a lot of distributions including uniform distribution\n",
    "\n",
    "# Let's give T a value\n",
    "T = 60\n",
    "\n",
    "# We only need parameters a, b to represent the uniform distribution \n",
    "a = 0\n",
    "b = T\n",
    "\n",
    "# Values of X to plot\n",
    "X=list(range(a-20,b+1+20))\n",
    "\n",
    "# The parameters scale and loc work like this: [0, 1]*scale + loc = [loc, scale+loc]\n",
    "# If we want [a, b] = [loc, scale+loc]  -->  loc = a , scale = b - a\n",
    "rv = uniform(scale=b-a, loc=a)\n",
    "\n",
    "# Probability of value X < x (We use cdf method) \n",
    "x = 20\n",
    "p = rv.cdf(x)\n",
    "print(\"P(X<\"+str(x)+\") = \", p)"
   ]
  },
  {
   "cell_type": "markdown",
   "metadata": {},
   "source": [
    "Now we will plot the uniform distribution of the experiment"
   ]
  },
  {
   "cell_type": "code",
   "execution_count": 13,
   "metadata": {
    "scrolled": true
   },
   "outputs": [
    {
     "data": {
      "image/png": "[encoded data removed]",
      "text/plain": [
       "<Figure size 432x288 with 1 Axes>"
      ]
     },
     "metadata": {
      "needs_background": "light"
     },
     "output_type": "display_data"
    }
   ],
   "source": [
    "# Plotting the uniform discrete distribution of the experiment\n",
    "fig, ax = plt.subplots(1, 1)\n",
    "ax.plot(X, rv.pdf(X), 'b', ms=8)\n",
    "plt.show()"
   ]
  },
  {
   "cell_type": "markdown",
   "metadata": {},
   "source": [
    "<font size=\"3\">**7.3.2.- Normal distribution (continuous)**</font><a id='nd'></a>\n",
    "\n",
    "Normal (or Gaussian or Gauss or Laplace–Gauss) distributions are important in statistics and are often used in the natural and social sciences to represent real-valued random variables whose distributions are not known. A random variable with a Gaussian distribution is said to be normally distributed, and is called a normal deviate.\n",
    "\n",
    "Notation: $N(\\mu,\\sigma^2)$\n",
    "\n",
    "Parameters: $\\mu \\in \\mathbb{R} ,\\; \\sigma^2 > 0$\n",
    "\n",
    "PDF: $f(x) =  \\frac{1}{\\sigma \\sqrt{2\\pi}}e^{{-\\frac{1}{2}}(\\frac{x-\\mu}{\\sigma})^2}$\n",
    "\n",
    "<img src=\"https://upload.wikimedia.org/wikipedia/commons/thumb/7/74/Normal_Distribution_PDF.svg/1280px-Normal_Distribution_PDF.svg.png\" width =\"300\" height=300 ><br>\n",
    "\n",
    "\n",
    "\n",
    "E.g.\n",
    "\n",
    "We use normal distributions when the distribution of an experiment is not know, so, let's say we don't know the distribution of time (in days) that takes a person to recover from a flu. So the mean is 4 days and the standard deviation is 2 days."
   ]
  },
  {
   "cell_type": "code",
   "execution_count": 14,
   "metadata": {
    "scrolled": false
   },
   "outputs": [
    {
     "name": "stdout",
     "output_type": "stream",
     "text": [
      "P(X<4) =  0.5\n"
     ]
    }
   ],
   "source": [
    "# Scipy library provides a lot of distributions including normal distribution\n",
    "\n",
    "# We only need parameters mean, std to represent the uniform distribution \n",
    "mean = 4\n",
    "std = 2\n",
    "\n",
    "# Values of X to plot\n",
    "X=list(range(mean-4*std,mean+4*std))\n",
    "\n",
    "# The parameter loc is to shift the distribution and scale affects the width\n",
    "rv = norm(loc=mean, scale=std)\n",
    "\n",
    "# Probability of value X < x\n",
    "x = 4\n",
    "p = rv.cdf(x)\n",
    "print(\"P(X<\"+str(x)+\") = \", p)"
   ]
  },
  {
   "cell_type": "markdown",
   "metadata": {},
   "source": [
    "Now we will plot the normal distribution of the experiment"
   ]
  },
  {
   "cell_type": "code",
   "execution_count": 15,
   "metadata": {
    "scrolled": false
   },
   "outputs": [
    {
     "data": {
      "image/png": "[encoded data removed]",
      "text/plain": [
       "<Figure size 432x288 with 1 Axes>"
      ]
     },
     "metadata": {
      "needs_background": "light"
     },
     "output_type": "display_data"
    }
   ],
   "source": [
    "# Plotting the uniform discrete distribution of the experiment\n",
    "fig, ax = plt.subplots(1, 1)\n",
    "ax.plot(X, rv.pdf(X), 'b', ms=8)\n",
    "plt.show()"
   ]
  },
  {
   "cell_type": "markdown",
   "metadata": {},
   "source": [
    "### 7.4.- Univariate and multivariate distributions<a id='uamd'></a>\n",
    "\n",
    "A probability distribution whose sample space is one-dimensional (for example real numbers, list of labels, ordered labels or binary) is called univariate, while a distribution whose sample space is a vector space of dimension $2$ or more is called multivariate. \n",
    "\n",
    "A univariate distribution gives the probabilities of a single random variable taking on various alternative values; a multivariate distribution (a joint probability distribution) gives the probabilities of a random vector – a list of two or more random variables – taking on various combinations of values.  A commonly encountered multivariate distribution is the multivariate normal distribution."
   ]
  },
  {
   "cell_type": "markdown",
   "metadata": {},
   "source": [
    "<font size=\"3\">**7.4.1.- Joint probability distribution**</font><a id='jpd'></a>\n",
    "\n",
    "Given random variables ${X,Y,\\ldots }$, that are defined on a probability space, the joint probability distribution for ${X,Y,\\ldots }$ is a probability distribution that gives the probability that each of ${X,Y,\\ldots }$ falls in any particular range or discrete set of values specified for that variable. In the case of only two random variables, this is called a bivariate distribution, but the concept generalizes to any number of random variables, giving a multivariate distribution.\n",
    "\n",
    "The joint probability distribution can be expressed either in terms of a joint cumulative distribution function or in terms of a joint probability density function (in the case of continuous variables) or joint probability mass function (in the case of discrete variables). \n",
    "\n",
    "These in turn can be used to find two other types of distributions: the marginal distribution giving the probabilities for any one of the variables with no reference to any specific ranges of values for the other variables, and the conditional probability distribution giving the probabilities for any subset of the variables conditional on particular values of the remaining variables.<br><br>\n",
    "\n",
    "**Discrete case**\n",
    "\n",
    "$$ p_{X,Y}(x,y)=P(X=x \\;\\; \\text{and} \\;\\; Y=y) $$<br>\n",
    "\n",
    "**Continuous case**\n",
    "\n",
    "If $F_{X,Y}(x,y) = P(X<x ,\\; Y<y)$ is the cumulative joint distribution\n",
    "\n",
    "$$ f_{X,Y}(x,y) = \\frac {\\partial ^2F_{X,Y}(x,y)}{\\partial x \\partial y} $$\n"
   ]
  },
  {
   "cell_type": "markdown",
   "metadata": {},
   "source": [
    "<font size=\"3\">**7.4.2.- Multivariate normal distribution**</font><a id='mnd'></a>\n",
    "\n",
    "In probability theory and statistics, the multivariate normal distribution, multivariate Gaussian distribution, or joint normal distribution is a generalization of the one-dimensional (univariate) normal distribution to higher dimensions. One definition is that a random vector is said to be k-variate normally distributed if every linear combination of its k components has a univariate normal distribution.\n",
    "\n",
    "Notation: $N(\\mu,\\Sigma)$\n",
    "\n",
    "Parameters: $\\mu \\in \\mathbb{R}^k ,\\; \\Sigma \\in \\mathbb{R}^{kxk}$\n",
    "\n",
    "Where $\\mu$ is a vector with the mean of every random variable and $\\Sigma$ is the covariance matrix (We will define this later)\n",
    "\n",
    "PDF: $f(x_1, \\dots, x_k) =  \\frac{\\exp (-\\frac{1}{2}(x-\\mu)^T \\Sigma^{-1}(x-\\mu))}{\\sqrt {{2\\pi}^k \\det (\\Sigma) }} $\n",
    "\n",
    "<img src=\"https://upload.wikimedia.org/wikipedia/commons/8/8e/MultivariateNormal.png\" width =\"300\" height=300 ><br>\n",
    "\n",
    "\n",
    "E.g.\n",
    "\n",
    "Suppose we have an experiment that follows a multivariate normal distribution with parameters $\\mu = [0, 0]$ and $\\Sigma = I$ (identity matrix)"
   ]
  },
  {
   "cell_type": "code",
   "execution_count": 83,
   "metadata": {
    "scrolled": false
   },
   "outputs": [
    {
     "name": "stdout",
     "output_type": "stream",
     "text": [
      "P(X<0, Y<0) =  0.25\n"
     ]
    }
   ],
   "source": [
    "# Scipy library provides a lot of distributions including multivariate normal distribution\n",
    "\n",
    "# Number of random variables\n",
    "k = 2\n",
    "\n",
    "# We only need parameters mean, std to represent the uniform distribution \n",
    "mean = [0, 0]\n",
    "Sigma = [[1, 0], [0, 1]]\n",
    "\n",
    "# Values of X,Y to plot\n",
    "X, Y = np.mgrid[-2:2:.01, -2:2:.01]\n",
    "pos = np.dstack((X, Y))\n",
    "\n",
    "# The parameter loc is to shift the distribution and scale affects the width\n",
    "rv = multivariate_normal(mean=mean, cov=Sigma)\n",
    "\n",
    "# Probability of value X < x and Y < y\n",
    "x = 0\n",
    "y = 0\n",
    "p = rv.cdf([x,y])\n",
    "print(\"P(X<\"+str(x)+\", Y<\"+str(y)+\") = \", p)"
   ]
  },
  {
   "cell_type": "markdown",
   "metadata": {},
   "source": [
    "Now we will plot the multivariate normal distribution of the experiment"
   ]
  },
  {
   "cell_type": "code",
   "execution_count": 86,
   "metadata": {},
   "outputs": [
    {
     "data": {
      "image/png": "[encoded data removed]",
      "text/plain": [
       "<Figure size 720x720 with 1 Axes>"
      ]
     },
     "metadata": {
      "needs_background": "light"
     },
     "output_type": "display_data"
    }
   ],
   "source": [
    "# Plotting the multivariate normal distribution of the experiment\n",
    "fig = plt.figure(figsize=(10, 10))\n",
    "ax  = fig.add_subplot(111, projection='3d')\n",
    "surf = ax.plot_surface(X, Y, rv.pdf(pos), rstride=1, cstride=1,cmap=matplotlib.cm.coolwarm, vmin=0, vmax=0.25)\n",
    "ax.set_xlabel('X')\n",
    "ax.set_ylabel('Y')\n",
    "ax.set_zlabel('Px,y')\n",
    "ax.view_init(ax.elev, 150)\n",
    "plt.show()"
   ]
  },
  {
   "cell_type": "markdown",
   "metadata": {},
   "source": [
    "### 7.5.- Marginal distributions<a id='md'></a>\n",
    "\n",
    "In probability theory and statistics, the marginal distribution of a subset of a collection of random variables (e.g. $X, Y$) is the probability distribution of the variables contained in the subset. It gives the probabilities of various values of the variables in the subset without reference to the values of the other variables. \n",
    "\n",
    "$$P(X) \\;\\;\\text{and}\\;\\; P(Y) \\;\\; \\text{are marginal distributions}$$\n",
    "\n",
    "This contrasts with a conditional distribution, which gives the probabilities contingent upon the values of the other variables."
   ]
  },
  {
   "cell_type": "markdown",
   "metadata": {},
   "source": [
    "### 7.6.- Conditional probability distribution<a id='cond_pd'></a>\n",
    "\n",
    "In probability theory and statistics, given two jointly distributed random variables $X$ and $Y$, the conditional probability distribution of Y given X is the probability distribution of $Y$ when $X$ is known to be a particular value; in some cases the conditional probabilities may be expressed as functions containing the unspecified value $x$ of $X$ as a parameter. When both $X$ and $Y$ are categorical variables, a conditional probability table is typically used to represent the conditional probability. The conditional distribution contrasts with the marginal distribution of a random variable, which is its distribution without reference to the value of the other variable.<br><br>\n",
    "\n",
    "$$p_{Y\\mid X}(y\\mid x) \\triangleq P(Y=y \\mid X=x) = \\frac {P(\\{X=x\\} \\cap \\{Y=y\\})}{P(X=x)}$$\n",
    "\n",
    "$$f_{Y\\mid X}(y\\mid x)=\\frac{f_{X,Y}(x,y)}{f_X(x)}$$\n"
   ]
  },
  {
   "cell_type": "markdown",
   "metadata": {},
   "source": [
    "### 7.7.- Law of total probability<a id='lotp'></a>\n",
    "\n",
    "In probability theory, the law (or formula) of total probability is a fundamental rule relating marginal probabilities to conditional probabilities. It expresses the total probability of an outcome which can be realized via several distinct events—hence the name.\n",
    "\n",
    "\n",
    "The law of total probability is the proposition that if $\\{B_{n}:n=1,2,3,\\ldots \\}$ is a finite or countably infinite partition of a sample space (in other words, a set of pairwise disjoint events whose union is the entire sample space) and each event $B_{n}$ is measurable, then for any event $A$ of the same probability space:<br><br>\n",
    "\n",
    "$$P(A) = \\sum_n P(A\\cap B_n) $$\n",
    "\n",
    "$$P(A) = \\sum_n P(A\\mid B_n)P(B_n)$$\n",
    "\n",
    "The law of total probability can also be stated for conditional probabilities.\n",
    "\n",
    "$$P(A\\mid C) = \\sum_n P(A\\mid C \\cap B_n)P(B_n\\mid C)$$\n",
    "\n",
    "Assuming $C$ is an event independent of any of the $B_{n}$:\n",
    "\n",
    "$$P(A\\mid C) = \\sum_n P(A\\mid C \\cap B_n)P(B_n)$$<br><br>\n",
    "\n",
    "E.g. **Rolling two dies** \n",
    "\n",
    "Let's define the event A as getting a score of $7$ when rolling the two die. The probability of $A$ is $1/6 (= 6/36)$ because the sample space consists of $36$ equiprobable elementary outcomes of which $6$ are favorable to the event of getting $7$ as the sum of two die.\n",
    "\n",
    "$ A = \\{(1,6),(6,1),(2,5),(5,2),(3,4),(4,3)\\} $\n",
    "\n",
    "Consider another event $B_1$ which is having at least one $2$. The probability of getting a score of $7$ and at least one $2$:\n",
    "\n",
    "$A \\cap B_1 = \\{(2,5),(5,2)\\} \\rightarrow P(A \\cap B_1) = 2/36$\n",
    "\n",
    "Consider another event $B_2$ that has no any $2$. The probability of getting a score of $7$ without having any $2$:\n",
    "\n",
    "$A \\cap B_2 = \\{(1,6),(6,1),(3,4),(4,3)\\}\\rightarrow P(A \\cap B_2) = 4/36$\n",
    "\n",
    "Since $B_1$ and $B_2$ are disjoint events whose union is the entire sample space. Using the law of total probability we are gonna verify the probability of A:\n",
    "\n",
    "$P(A) = \\sum_n P(A\\cap B_n) $\n",
    "\n",
    "$P(A) = \\sum_{n=1}^2 P(A\\cap B_n) $\n",
    "\n",
    "$P(A) = P(A\\cap B_1) + P(A\\cap B_2)  $\n",
    "\n",
    "$P(A) = 2/36 \\;\\; + \\;\\; 4/36$\n",
    "\n",
    "$P(A) = 6/36 = 1/6$\n"
   ]
  },
  {
   "cell_type": "markdown",
   "metadata": {},
   "source": [
    "<font size=\"3\">**Marginalization**</font>\n",
    "\n",
    "Marginalization in probability refers to “summing out” the probability of a random variable  X  given the joint probability distribution of  X  with other variable(s). It is a direct application of the law of total probability.\n",
    "\n",
    "$$f_X(x)=\\int_{y \\in \\mathcal {Y}} f_{X,Y}(x,y)dy$$\n",
    "\n",
    "$$f_X(x)=\\int_{y \\in \\mathcal {Y}} f_{X\\mid Y}(x\\mid y)f_Y(y)dy$$\n",
    "\n",
    "$$f_{X,Y}(x,y)=\\int_{z \\in \\mathcal {Z}} f_{X,Y,Z}(x,y,z)dz$$\n",
    "\n",
    "$$f_X(x)=\\int_{z \\in  \\mathcal {Z}} \\int_{y \\in  \\mathcal {Y}} f_{X,Y,Z}(x,y,z)dydz$$"
   ]
  },
  {
   "cell_type": "markdown",
   "metadata": {},
   "source": [
    "### 7.8.- Independent and identically distributed random variables<a id='iidrv'></a>\n",
    "\n",
    "In probability theory and statistics, a collection of random variables is independent and identically distributed if each random variable has the same probability distribution as the others and all are mutually independent. This property is usually abbreviated as i.i.d. or iid or IID.\n",
    "\n",
    "**Two i.i.d random variables case**\n",
    "\n",
    "Let $F_{X}(x)=\\operatorname {P} (X\\leq x)$ and $F_{Y}(y)=\\operatorname {P} (Y\\leq y)$ be the cumulative distribution functions of random variables $X$ and $Y$, respectively, and denote their joint cumulative distribution function by $F_{X,Y}(x,y)=\\operatorname {P} (X\\leq x\\land Y\\leq y)$\n",
    "\n",
    "Two random variables $X$ and $Y$ are i.i.d. if they are independent and identically distributed, \n",
    "\n",
    "- $F_{X}(x) = F_{Y}(x) \\;\\;\\; \\forall \\, x\\;\\;\\;$ ($X$ and $Y$ are identically distributed)\n",
    "\n",
    "- $F_{X,Y}(x,y)=F_{X}(x)\\cdot F_{Y}(y)\\;\\;\\;\\forall \\, x,y\\;\\;\\;$ ($X$ and $Y$ are independent)\n",
    "\n",
    "<br>\n",
    "\n",
    "Most random data that you tend to come across in everyday situations is going to be IID. \n",
    "\n",
    "-In machine learning theory, i.i.d. assumption is often made for training datasets to imply that all samples stem from the same generative process and that the generative process is assumed to have no memory of past generated samples.\n",
    "\n",
    "**E.g.** Flipping a (fair) coin. Because the coin doesn’t remember the last thing it showed, all of the flips are “independent”. The variables are identically distributed because as long as the coin is fair, there is a 50/50 chance each and every time that you will get heads or tails - thus, identically and even distribution.\n",
    "\n"
   ]
  },
  {
   "cell_type": "markdown",
   "metadata": {},
   "source": [
    "## 8.- Sampling distributions<a id='sampling_distributions'></a>"
   ]
  },
  {
   "cell_type": "markdown",
   "metadata": {},
   "source": [
    "### 8.1.- Sample statistic<a id='sample_statistic'></a>\n",
    "\n",
    "A sample statistic is a piece of statistical information you get from a sample."
   ]
  },
  {
   "cell_type": "markdown",
   "metadata": {},
   "source": [
    "<font size=\"3\">**8.1.1.- Sample mean**</font><a id='sample_mean'></a>\n",
    "\n",
    "The sample mean $\\bar {x}$, is the mean of the observations in a sample. $\\bar {x}$ is an estimate of the population mean $\\mu$.\n",
    "\n",
    "$$\\bar{x}=\\frac{1}{n}\\sum_{i=1}^{n}x_{i} \\quad \\quad \\quad \\quad \\quad$$ <br>\n",
    "\n",
    "E.g. **Sample mean from a population of positive integer numbers < 100**\n",
    "\n",
    "$ n = 3 \\quad \\text{(sample size)}$\n",
    "\n",
    "$sample = \\{ 14, 27, 7\\}$\n",
    "\n",
    "$ \\bar {x} = \\frac {14 + 27 + 7}{3} = 16$"
   ]
  },
  {
   "cell_type": "markdown",
   "metadata": {},
   "source": [
    "### 8.2.- Sampling distribution<a id='sampling_distribution'></a>\n",
    "\n",
    "A sampling distribution is a probability distribution of a statistic obtained from a larger number of samples drawn from a specific population.\n",
    "\n",
    "Suppose that we draw all possible samples of size $n$ from a given population. Suppose further that we compute a statistic (e.g., a mean, proportion, standard deviation) for each sample. The probability distribution of this statistic is called a sampling distribution. \n"
   ]
  },
  {
   "cell_type": "markdown",
   "metadata": {},
   "source": [
    "<font size=\"3\">**8.2.1.- Sampling distribution of the mean**</font><a id='sampling_distribution_mean'></a>\n",
    "\n",
    "A sampling distribution of the mean is a probability distribution of the sample mean random variable $\\bar {X}$. We obtain random variable $\\bar {X}$ from random variable $X$.\n",
    "\n",
    "If $X$ has a probability distribution with mean $\\mu$ and standard deviation $\\sigma$, and if $X$ is approximately normally distributed or if the sample size n is large,then the sample mean random variable $\\bar {X}$ is normally distributed with average $\\mu$ and standard error $\\frac{\\sigma}{\\sqrt {n}}$\n",
    "\n",
    "If $X$ is normal, then $\\bar {X}$ is also normally distributed regardless of the sample size $n$. Central Limit Theorem tells us that even if $X$ is not normal, if the sample size $n$ is large enough (usually greater than 30), then $\\bar {X}$ distribution is approximately normal.\n",
    "\n",
    "E.g.\n",
    "\n",
    "We will show the first case (where $X$ is normally distributed) with an example using code, $X$ follows a normal distribution with $\\mu = 6 \\;$ and $\\; \\sigma^2 = 1$   "
   ]
  },
  {
   "cell_type": "markdown",
   "metadata": {},
   "source": [
    "For this we need to code random variable $X$, we will use this random variable to generate samples"
   ]
  },
  {
   "cell_type": "code",
   "execution_count": 22,
   "metadata": {},
   "outputs": [],
   "source": [
    "# Scipy library provides a lot of distributions including normal distribution\n",
    "\n",
    "# We only need parameters mean, std to represent the uniform distribution \n",
    "mean = 6\n",
    "std = 1\n",
    "\n",
    "# Values of X to plot\n",
    "X=list(range(mean-4*std,mean+4*std))\n",
    "\n",
    "# The parameter loc is to shift the distribution and scale affects the width\n",
    "rv_X = norm(loc=mean, scale=std)"
   ]
  },
  {
   "cell_type": "markdown",
   "metadata": {},
   "source": [
    "This is an example of a sample with size 3"
   ]
  },
  {
   "cell_type": "code",
   "execution_count": 72,
   "metadata": {},
   "outputs": [
    {
     "data": {
      "text/plain": [
       "array([4.97247247, 6.03067889, 5.69385329])"
      ]
     },
     "execution_count": 72,
     "metadata": {},
     "output_type": "execute_result"
    }
   ],
   "source": [
    "sample = rv_X.rvs(size=3)\n",
    "sample"
   ]
  },
  {
   "cell_type": "markdown",
   "metadata": {},
   "source": [
    "This is the average sample (sample mean) of this sample"
   ]
  },
  {
   "cell_type": "code",
   "execution_count": 74,
   "metadata": {},
   "outputs": [
    {
     "data": {
      "text/plain": [
       "5.565668216563463"
      ]
     },
     "execution_count": 74,
     "metadata": {},
     "output_type": "execute_result"
    }
   ],
   "source": [
    "sample_mean = sum(sample)/len(sample)\n",
    "sample_mean"
   ]
  },
  {
   "cell_type": "markdown",
   "metadata": {},
   "source": [
    "We need a lot of samples mean like this to generate a sampling distribution, we will do it next"
   ]
  },
  {
   "cell_type": "markdown",
   "metadata": {},
   "source": [
    "Now we are going to compute the average samples (values of $\\bar{X}$) using the sampling distribution function."
   ]
  },
  {
   "cell_type": "code",
   "execution_count": 24,
   "metadata": {},
   "outputs": [],
   "source": [
    "def sampling_distribution(rv, trials, n):\n",
    "    \"\"\"\n",
    "    rv: sci-py random variable (scipy object)    \n",
    "    trials: Number of samples (int)    \n",
    "    n: Samples size (int)\n",
    "    \n",
    "    Return avg_observations: Average observations of the sampling distribution (list)\n",
    "    \"\"\"\n",
    "    avg_samples = []\n",
    "    \n",
    "    for i in range(trials):\n",
    "        observations = rv.rvs(size=n)\n",
    "        avg_samples.append(sum(observations)/len(observations))\n",
    "        \n",
    "    return avg_samples"
   ]
  },
  {
   "cell_type": "markdown",
   "metadata": {},
   "source": [
    "We will set the samples size $n=30\\;$ and $\\;\\text{trials} = 500$, $n$ is the number of observations we collect in a sample and Trials is the number of samples (number of times we will get a sample from $X$)."
   ]
  },
  {
   "cell_type": "code",
   "execution_count": 66,
   "metadata": {},
   "outputs": [],
   "source": [
    "# Computing the average observations\n",
    "n = 2\n",
    "trials = 200\n",
    "avg_samples = sampling_distribution(rv_X, trials, n)"
   ]
  },
  {
   "cell_type": "markdown",
   "metadata": {},
   "source": [
    "Now we have to compare the mean and std/√n of $X$ with the mean and std of the sampling distribution of the mean"
   ]
  },
  {
   "cell_type": "code",
   "execution_count": 67,
   "metadata": {},
   "outputs": [
    {
     "data": {
      "text/plain": [
       "6.0342747615204715"
      ]
     },
     "execution_count": 67,
     "metadata": {},
     "output_type": "execute_result"
    }
   ],
   "source": [
    "# Computing the mean of the samples mean\n",
    "np.mean(avg_samples)"
   ]
  },
  {
   "cell_type": "markdown",
   "metadata": {},
   "source": [
    "As we can see the mean of the sampling distribution is close to the mean of X, even with small sample size n"
   ]
  },
  {
   "cell_type": "code",
   "execution_count": 68,
   "metadata": {},
   "outputs": [
    {
     "data": {
      "text/plain": [
       "0.7071067811865475"
      ]
     },
     "execution_count": 68,
     "metadata": {},
     "output_type": "execute_result"
    }
   ],
   "source": [
    "# Computing the std of X divided by the sqrt of n\n",
    "std_n=std/np.sqrt(n)\n",
    "std_n"
   ]
  },
  {
   "cell_type": "code",
   "execution_count": 69,
   "metadata": {},
   "outputs": [
    {
     "data": {
      "text/plain": [
       "0.6837193198502538"
      ]
     },
     "execution_count": 69,
     "metadata": {},
     "output_type": "execute_result"
    }
   ],
   "source": [
    "# Computing the std of the average random samples\n",
    "np.std(avg_samples)"
   ]
  },
  {
   "cell_type": "markdown",
   "metadata": {},
   "source": [
    "These values are close too."
   ]
  },
  {
   "cell_type": "markdown",
   "metadata": {},
   "source": [
    "Finally, we will plot the histogram to see the bell curve shape and a normal distribution with mean $\\mu$ and standar deviation $\\sigma / \\sqrt{n}$"
   ]
  },
  {
   "cell_type": "code",
   "execution_count": 70,
   "metadata": {
    "scrolled": false
   },
   "outputs": [
    {
     "data": {
      "image/png": "[encoded data removed]",
      "text/plain": [
       "<Figure size 432x288 with 1 Axes>"
      ]
     },
     "metadata": {
      "needs_background": "light"
     },
     "output_type": "display_data"
    }
   ],
   "source": [
    "# Plotting the histogram\n",
    "fig, ax = plt.subplots(1, 1)\n",
    "plt.hist(avg_samples, bins = 80, density=True)\n",
    "ax.plot(np.arange(2,10,0.1), norm(loc=mean, scale=std_n).pdf(np.arange(2,10,0.1)), 'b', ms=8)\n",
    "plt.show()"
   ]
  },
  {
   "cell_type": "markdown",
   "metadata": {},
   "source": [
    " That's it, we showed the first case with an example!"
   ]
  },
  {
   "cell_type": "markdown",
   "metadata": {},
   "source": [
    "### 8.3.- Central limit theorem<a id='clt'></a>\n",
    "\n",
    "Given that we obtain random variable $\\bar {X}$ probability distribution (sampling distribution of the mean) from random variable $X$. The central limit theorem (CLT) establishes that, in some situations, when $X$ is not normal, if the sample size $n$ is large enough (usually greater than 30), then $\\bar {X}$ distribution is approximately normal. \n",
    "\n",
    "The theorem is a key concept in probability theory because it implies that probabilistic and statistical methods that work for normal distributions can be applicable to many problems involving other types of distributions.\n",
    "\n",
    "If $x_1, x_2, x_3, \\dots, x_n$ are random observations taken from $X$, a population with overall mean $\\mu$ and finite variance $\\sigma ^2$ and if $\\bar {X}$ is the sample mean,\n",
    "\n",
    "$$\\bar {X} = \\frac{x_1+ x_2+ x_3+ \\dots+ x_n}{n}$$\n",
    "\n",
    "the limiting form of the distribution of $Z = $ <font size=\"4\">$\\frac{\\bar {X} - \\mu}{\\sigma / \\sqrt {n}}$\n",
    "</font> as $n \\to \\infty$, is the standard normal distribution.\n",
    "\n",
    "In other words, the central limit theorem states that for a large enough $n$, sample mean $\\bar{X}$ can be approximated by a normal distribution with mean $\\mu$ and standard deviation $\\sigma/\\sqrt{n}$<br><br>\n",
    "\n",
    "E.g.\n",
    "\n",
    "We will show this with experiment of rolling a die ($X$ follows a discrete uniform distribution). In this example we will do $8$ samples from $X$ with a sample size of $4$ to compute the sample mean $\\bar{X}$ for every sample<br><br>\n",
    "\n",
    "|Sample|$x_1$|$x_2$|$x_3$|$x_4$|$\\bar{X}$|\n",
    "|:-:|:-:|:-:|:-:|:-:|:-:|\n",
    "|$s_1$|$4$|$4$|$2$|$3$|$3.25$|\n",
    "|$s_2$|$4$|$3$|$5$|$2$|$3.50$|\n",
    "|$s_3$|$2$|$6$|$4$|$4$|$4.00$|\n",
    "|$s_4$|$5$|$4$|$1$|$3$|$3.25$|\n",
    "|$s_5$|$6$|$2$|$4$|$6$|$4.50$|\n",
    "|$s_6$|$3$|$4$|$3$|$4$|$3.50$|\n",
    "|$s_7$|$5$|$3$|$2$|$2$|$3.00$|\n",
    "|$s_8$|$1$|$5$|$6$|$1$|$3.25$|<br><br>\n",
    "\n",
    "\n",
    "Here we use $n=4$, but as we increase $n$ the values of $\\bar{X}$ can be aproximated by a normal distribution with mean $\\mu$ and standard deviation $\\sigma/\\sqrt{n}$. We will code this."
   ]
  },
  {
   "cell_type": "markdown",
   "metadata": {},
   "source": [
    "For this we need to simulate the experiment first, we will use this function"
   ]
  },
  {
   "cell_type": "code",
   "execution_count": 88,
   "metadata": {},
   "outputs": [],
   "source": [
    "def die_simulation(number_trials):\n",
    "    \"\"\"\n",
    "    number_trials: Number of times we will get a sample (int)\n",
    "    \n",
    "    Return observations: Observations of the experiment (list)\n",
    "    \"\"\"\n",
    "    observations = []\n",
    "    \n",
    "    for i in range(number_trials):\n",
    "        observation = np.random.choice(list(range(1,7)), p=1/6*np.ones(6))\n",
    "        observations.append(observation)\n",
    "        \n",
    "    return observations  "
   ]
  },
  {
   "cell_type": "markdown",
   "metadata": {},
   "source": [
    "Then we are going to compute the average samples (values of $\\bar{X}$) using this the CLT function."
   ]
  },
  {
   "cell_type": "code",
   "execution_count": 6,
   "metadata": {},
   "outputs": [],
   "source": [
    "def central_limit_theorem(exp_simulation_fn, trials, n):\n",
    "    \"\"\"\n",
    "    exp_simulation_fn: function of the experiment simulation (function)    \n",
    "    trials: Number of samples (int)    \n",
    "    n: Samples size (int)\n",
    "    \n",
    "    Return avg_observations: Average observations of the CLT (list)\n",
    "    \"\"\"\n",
    "    avg_samples = []\n",
    "    \n",
    "    for i in range(trials):\n",
    "        observations = exp_simulation_fn(n)\n",
    "        avg_samples.append(sum(observations)/len(observations))\n",
    "        \n",
    "    return avg_samples"
   ]
  },
  {
   "cell_type": "markdown",
   "metadata": {},
   "source": [
    "We will set the samples size $n=30\\;$ and $\\;\\text{trials} = 500$, $n$ is the number of observations we collect in a sample and Trials is the number of samples (number of times we will get a sample from $X$)."
   ]
  },
  {
   "cell_type": "code",
   "execution_count": 7,
   "metadata": {},
   "outputs": [],
   "source": [
    "# Computing the average observations\n",
    "n = 30\n",
    "trials = 500\n",
    "avg_samples = central_limit_theorem(die_simulation, trials, n)"
   ]
  },
  {
   "cell_type": "markdown",
   "metadata": {},
   "source": [
    "Now we have to compare the mean and std/√n of the sample space ($X$) with the mean and std of the average random sample"
   ]
  },
  {
   "cell_type": "code",
   "execution_count": 8,
   "metadata": {},
   "outputs": [
    {
     "data": {
      "text/plain": [
       "3.5"
      ]
     },
     "execution_count": 8,
     "metadata": {},
     "output_type": "execute_result"
    }
   ],
   "source": [
    "# Computing the mean of X\n",
    "mean=np.mean([1,2,3,4,5,6])\n",
    "mean"
   ]
  },
  {
   "cell_type": "code",
   "execution_count": 9,
   "metadata": {},
   "outputs": [
    {
     "data": {
      "text/plain": [
       "3.497"
      ]
     },
     "execution_count": 9,
     "metadata": {},
     "output_type": "execute_result"
    }
   ],
   "source": [
    "# Computing the mean of the samples mean\n",
    "np.mean(avg_samples)"
   ]
  },
  {
   "cell_type": "markdown",
   "metadata": {},
   "source": [
    "As we can see these mean values are similar"
   ]
  },
  {
   "cell_type": "code",
   "execution_count": 10,
   "metadata": {},
   "outputs": [
    {
     "data": {
      "text/plain": [
       "0.31180478223116176"
      ]
     },
     "execution_count": 10,
     "metadata": {},
     "output_type": "execute_result"
    }
   ],
   "source": [
    "# Computing the std of the sample space divided by the sqrt of n\n",
    "std_n=np.std([1,2,3,4,5,6])/np.sqrt(n)\n",
    "std_n"
   ]
  },
  {
   "cell_type": "code",
   "execution_count": 11,
   "metadata": {},
   "outputs": [
    {
     "data": {
      "text/plain": [
       "0.30086154069050874"
      ]
     },
     "execution_count": 11,
     "metadata": {},
     "output_type": "execute_result"
    }
   ],
   "source": [
    "# Computing the std of the average random samples\n",
    "np.std(avg_samples)"
   ]
  },
  {
   "cell_type": "markdown",
   "metadata": {},
   "source": [
    "These values are close too."
   ]
  },
  {
   "cell_type": "markdown",
   "metadata": {},
   "source": [
    "Finally, we will plot the histogram to see the bell curve shape and a normal distribution with mean $\\mu$ and standar deviation $\\sigma / \\sqrt{n}$"
   ]
  },
  {
   "cell_type": "code",
   "execution_count": 13,
   "metadata": {
    "scrolled": true
   },
   "outputs": [
    {
     "data": {
      "image/png": "[encoded data removed]",
      "text/plain": [
       "<Figure size 432x288 with 1 Axes>"
      ]
     },
     "metadata": {
      "needs_background": "light"
     },
     "output_type": "display_data"
    }
   ],
   "source": [
    "# Plotting the histogram\n",
    "fig, ax = plt.subplots(1, 1)\n",
    "plt.hist(avg_samples, bins = 80, density=True)\n",
    "ax.plot(np.arange(2,5,0.1), norm(loc=mean, scale=std_n).pdf(np.arange(2,5,0.1)), 'b', ms=8)\n",
    "plt.show()"
   ]
  },
  {
   "cell_type": "markdown",
   "metadata": {},
   "source": [
    " That's it, we showed the CLT with an example!"
   ]
  },
  {
   "cell_type": "markdown",
   "metadata": {},
   "source": [
    "## 9.- Expectation<a id='expectation'></a>"
   ]
  },
  {
   "cell_type": "markdown",
   "metadata": {},
   "source": [
    "### 9.1.- Definition<a id='def_exp'></a>\n",
    "\n",
    "In probability theory, the expected value of a random variable $X$, denoted $E(X)$ or $E[X]$. Intuitively, it is what you would expect the outcome of an experiment to be on average if you repeat the experiment a large number of times. The expected value is also known as the expectation, mathematical expectation, mean, average, or first moment.\n",
    "\n",
    "The definition of $E(X)$ will depend on the kind of random variable.<br><br>\n",
    "\n",
    "<font size=\"3\">**1) Finite case**</font>\n",
    "\n",
    "Let $X$ be a discrete random variable with a finite number of outcomes $\\{x_1,x_2,\\dots ,x_k\\}$ and $f(x)=P(X=x)$  be the probability distribution associated with $X$. The expectation of $X$ is defined as\n",
    "\n",
    "$$E[X] = \\sum_{i=1}^{k}x_if(x_i) $$\n",
    "\n",
    "$$E[X]= x_1P(X=x_1) + x_2P(X=x_2) + \\dots + x_kP(X=x_k)$$\n",
    "\n",
    "$$E[X]= x_1p_1 + x_2p_2 + \\dots + x_kp_k$$<br>\n",
    "\n",
    "Since the sum of all probabilities $p_i$ is $1$ ($p_1+p_2+\\dots +p_k =1$), the expected value is a weighted sum of $x_i$ with the $p_i$ value being the weights.\n",
    "\n",
    "If all outcomes $x_i$ are equiprobable ($p_1 = p_2 = \\dots = p_k$), then the weighted average turns into the simple average.<br><br>\n",
    "\n",
    "E.g. **Rolling a die**\n",
    "\n",
    "$X$ will represent the outcome of a roll of a fair die. More specifically, $X$ will be the number of pips showing on the top face of the die after the toss. The possible values for $X$ are $\\{1, 2, 3, 4, 5, 6\\}$, all of which are equally likely with a probability of $1/6$\n",
    "\n",
    "$E[X] = 1.\\frac{1}{6}+2.\\frac{1}{6}+3.\\frac{1}{6}+4.\\frac{1}{6}+5.\\frac{1}{6}+6.\\frac{1}{6} = 3.5$\n",
    "\n",
    "If one rolls the die $n$ times and computes the average (arithmetic mean) of the results, then as $n$ grows, the average will almost surely converge to the expected value, a fact known as the law of large numbers.\n",
    "\n",
    "* The law of large numbers (LLN) is a theorem that describes the result of performing the same experiment a large number of times. According to the law, the average of the results obtained from a large number of trials should be close to the expected value and will tend to become closer to the expected value as more trials are performed.\n",
    "<br><br>\n",
    "\n",
    "We will show the law of large numbers in this experiment with code:"
   ]
  },
  {
   "cell_type": "code",
   "execution_count": 93,
   "metadata": {},
   "outputs": [
    {
     "name": "stdout",
     "output_type": "stream",
     "text": [
      "The expected value of X:  3.417\n"
     ]
    }
   ],
   "source": [
    "# Using the samples simulation we will get n samples\n",
    "n = 1000\n",
    "samples = die_simulation(n)\n",
    "\n",
    "# Calculating the mean of the samples\n",
    "mean = sum(samples)/n\n",
    "print(\"The expected value of X: \", mean)"
   ]
  },
  {
   "cell_type": "markdown",
   "metadata": {},
   "source": [
    "<font size=\"3\">**2) Countable infinite case**</font>\n",
    "\n",
    "Let $X$ be a discrete random variable with a countable infinite number of outcomes $\\{x_1,x_2,\\dots \\}$ and $f(x)=P(X=x)$  be the probability distribution associated with $X$. The expectation of $X$ is defined as\n",
    "\n",
    "$$E[X] = \\sum_{i=1}^{\\infty}x_if(x_i) $$\n",
    "\n",
    "$$E[X]= x_1P(X=x_1) + x_2P(X=x_2) + x_3P(X=x_3) + \\dots$$\n",
    "\n",
    "$$E[X]= x_1p_1 + x_2p_2 + x_3p_3 + \\dots $$<br>\n",
    "\n",
    "Unlike the finite case, the expectation here can be equal to infinity, if the infinite sum above increases without bound.<br><br>\n",
    "\n",
    "E.g. **First tail**\n",
    "\n",
    "$X$ will represent the outcome of a tossing a coin until getting tails. More specifically, $X$ will be the number of times we have to toss the coin until getting tails. The possible values for $X$ are $\\{1, 2, 3, \\dots\\}$, occurring with probabilities $\\{1/2, 1/4, 1/8, \\dots\\}$ respectively. The expectation of $X$ is\n",
    "\n",
    "$E[X] = 1.\\frac{1}{2}+2.\\frac{1}{4}+3.\\frac{1}{8}+\\dots = 2 $<br><br>\n",
    "\n",
    "<font size=\"3\">**3) Continuous case**</font>\n",
    "\n",
    "If $X$ is a continuous random variable with probability density function $f(x)$, then the expected value is defined as\n",
    "\n",
    "$ E[X] = \\int^{\\infty}_{-\\infty} xf(x)\\,dx$\n",
    "\n",
    "where the values on both sides are well defined or not well defined simultaneously.<br><br>\n",
    "\n",
    "E.g. **Arrival time**\n",
    "\n",
    "$X$ will represent the outcome of the experiment about noting the time of arrival past the departure time of the last train. If $T$ is the interval between two consecutive trains, then the sample space for the experiment is the interval $[0, T]$. The random variable $X$ follows a uniform distribution.\n",
    "\n",
    "If $X \\in [0,T]$ and follows a uniform distribution:\n",
    "\n",
    "$f(x) =  \\begin{cases} \\frac{1}{T}  & \\quad \\text{for } x \\in [0,T]\\\\0  & \\quad \\text{ otherwise}\n",
    "  \\end{cases}\n",
    "$\n",
    "\n",
    "$ E[X] = \\int^{\\infty}_{-\\infty} xf(x)\\,dx = \\int^{T}_{0} x\\frac{1}{T}\\,dx = \\frac{1}{T}\\frac{x^2}{2} \\biggr\\rvert^{x=T}_{x=0} = \\frac{T}{2}$\n"
   ]
  },
  {
   "cell_type": "markdown",
   "metadata": {},
   "source": [
    "<font size=\"3\">**9.1.1.- Expectations properties**</font><a id='exp_prop'></a>\n",
    "\n",
    "**Linearity of expectations**\n",
    "\n",
    "For any random variables $X,Y$ and $a \\in \\mathbb{R}$\n",
    "\n",
    "$E[X+Y]=E[X]+E[Y]$\n",
    "\n",
    "$E[aX]=aE[X]$<br><br>\n",
    "\n",
    "**Other properties**\n",
    "\n",
    "$E[XY]=E[X]E[Y] \\;\\; \\text{If X and Y are independent}$\n",
    "\n",
    "$E[XY]=E[X]E[Y] + \\operatorname{cov}(X,Y) \\;\\; \\text{Where cov is the covariance (We will see this in the next section)}$\n"
   ]
  },
  {
   "cell_type": "markdown",
   "metadata": {},
   "source": [
    "### 9.2.- Variance and Covariance<a id='vac'></a>"
   ]
  },
  {
   "cell_type": "markdown",
   "metadata": {},
   "source": [
    "<font size=\"3\">**9.2.1.- Variance**</font><a id='var'></a>\n",
    "\n",
    "In probability theory and statistics, variance is the expectation of the squared deviation of a random variable from its mean. Informally, it measures how far a set of numbers is spread out from their average value.<br><br>\n",
    "\n",
    "$$\\operatorname{var}(X) = E[(X-\\mu)^2]$$\n",
    "\n",
    "The expression for the variance can be expanded as follows:\n",
    " \n",
    "$$\\operatorname{var}(X) = E(X^2)-E(X)^2$$<br>\n",
    "\n",
    "In other words, the variance of X is equal to the mean of the square of X minus the square of the mean of X."
   ]
  },
  {
   "cell_type": "markdown",
   "metadata": {},
   "source": [
    "<font size=\"3\">**9.2.2.- Covariance**</font><a id='cov'></a>\n",
    "\n",
    "In probability theory and statistics, covariance is a measure of the joint variability of two random variables. If the greater values of one variable mainly correspond with the greater values of the other variable, and the same holds for the lesser values, (i.e., the variables tend to show similar behavior), the covariance is positive. In the opposite case, when the greater values of one variable mainly correspond to the lesser values of the other, (i.e., the variables tend to show opposite behavior), the covariance is negative. The sign of the covariance therefore shows the tendency in the linear relationship between the variables. The units of measurement of the covariance $\\operatorname{cov}(X, Y)$ are those of $X$ times those of $Y$.\n",
    "\n",
    "For two jointly distributed real-valued random variables $X$ and $Y$, the covariance is defined as the expected value (or mean) of the product of their deviations from their individual expected values:\n",
    "\n",
    "$$\\operatorname{cov}(X,Y) = E[(X-E(X))(Y-E(Y)]$$<br>\n",
    "\n",
    "The variance is a special case of the covariance in which the two variables are identical:\n",
    "\n",
    "$$ \\operatorname{var}(X) = \\operatorname{cov}(X,X)$$\n",
    "\n"
   ]
  },
  {
   "cell_type": "markdown",
   "metadata": {},
   "source": [
    "### 9.3.- Conditional expectation<a id='cond_exp'></a>\n",
    "\n",
    "In probability theory, the conditional expectation, conditional expected value, or conditional mean of a random variable is its expected value – the value it would take “on average” over an arbitrarily large number of occurrences – given that a certain set of \"conditions\" is known to occur. If the random variable can take on only a finite number of values, the “conditions” are that the variable can only take on a subset of those values.\n",
    "\n",
    "Depending on the nature of the conditioning, the conditional expectation can be either a random variable itself or a fixed value. With two random variables, if the expectation of a random variable $X$ is expressed conditional on another random variable $Y$ (without a particular value of $Y$ being specified), then the expectation of $X$ conditional on $Y$, denoted $E(X\\mid Y)$, is a function of the random variable $Y$ and hence is itself a random variable. Alternatively, if the expectation of $X$ is expressed conditional on the occurrence of a particular value of $Y$, denoted $y$, then the conditional expectation $E(X\\mid Y=y)$ is a fixed value.<br><br>\n",
    "\n",
    "**Conditional expectation as a fixed value**\n",
    "\n",
    "$$E(X\\mid Y)(y) = E(X\\mid Y=y)$$<br>\n",
    "\n",
    "-When $X$ and $Y$ are both discrete random variables, then the conditional expectation of $X$ given the event $Y= y$ can be considered as function of $y$ for $y$ in the range of $Y$:\n",
    "\n",
    "$E(X\\mid Y=y)=\\sum_{x\\in \\mathcal{X}}xP(X=x \\mid Y=y)=\\sum_{x\\in \\mathcal{X}}x\\frac{P(X=x,Y=y)}{P(Y=y)}$\n",
    "\n",
    "where $\\mathcal {X}$ is the range of $X$.<br><br>\n",
    "\n",
    "-If $X$ is a continuous random variable, while $Y$ remains a discrete variable, the conditional expectation is\n",
    "\n",
    "$E(X\\mid Y=y) = \\int_{\\mathcal {X}} xf_X(x\\mid Y=y)dx$\n",
    "\n",
    "with $f_X(x\\mid Y=y) = \\frac{f_{X,Y}(x,y)}{P(Y=y)}$<br><br>\n",
    "\n",
    "-If both $X$ and $Y$ are continuous random variables, then the conditional expectation is\n",
    "\n",
    "$E(X\\mid Y=y) = \\int_{\\mathcal {X}} xf_{X\\mid Y}(x\\mid y)dx$\n",
    "\n",
    "with $f_{X\\mid Y}(x\\mid y) = \\frac{f_{X,Y}(x,y)}{f_Y(y)}$<br><br>\n",
    "\n",
    "**Conditional expectation as random variable**\n",
    "\n",
    "If we consider $E(X|Y = y)$, it is a number that depends on $y$. So it is a function of $Y$. \n",
    "\n",
    "$$E(X\\mid Y) = H(Y)$$\n",
    "\n",
    "Conditional expectation, $E(X \\mid Y )$, is a random variable with randomness inherited from $Y$ , not $X$.\n",
    "\n",
    "\n",
    "EXAMPLE\n",
    "\n"
   ]
  },
  {
   "cell_type": "markdown",
   "metadata": {},
   "source": [
    "<font size=\"3\">**9.3.1.- Condition expectation properties**</font><a id='cond_exp_prop'></a>\n",
    "\n",
    "$E(X\\mid Y) = E(X) \\;\\; \\text{If X and Y are independent}$\n",
    "\n",
    "$ E(X,Y\\mid Y) = YE(X\\mid Y)$<br><br>\n",
    "\n",
    "**Linearity**\n",
    "\n",
    "$E(X + Y \\mid Z)=E(X \\mid Z)+E(Y \\mid Z)$\n",
    "\n",
    "$E(aX \\mid Y)=aE(X \\mid Y)$<br><br>\n",
    "\n",
    "**Law of total expectation**\n",
    "\n",
    "$ E(X) =  E(E(X\\mid Y))$\n",
    "\n",
    "$ E(g(X)) =  E(E(g(X)\\mid Y))$\n",
    "\n",
    "One special case states that if $\\{Y_n\\}$ is a finite or countable partition of the sample space:\n",
    "\n",
    "$ E(X) = \\sum_n E(X\\mid Y_n)P(Y_n)$\n"
   ]
  },
  {
   "cell_type": "markdown",
   "metadata": {},
   "source": [
    " "
   ]
  },
  {
   "cell_type": "markdown",
   "metadata": {},
   "source": [
    " "
   ]
  },
  {
   "cell_type": "markdown",
   "metadata": {},
   "source": [
    " "
   ]
  },
  {
   "cell_type": "markdown",
   "metadata": {},
   "source": [
    " "
   ]
  },
  {
   "cell_type": "markdown",
   "metadata": {},
   "source": [
    "### Referencias\n",
    "\n"
   ]
  },
  {
   "cell_type": "code",
   "execution_count": null,
   "metadata": {},
   "outputs": [],
   "source": []
  }
 ],
 "metadata": {
  "kernelspec": {
   "display_name": "Python 3",
   "language": "python",
   "name": "python3"
  },
  "language_info": {
   "codemirror_mode": {
    "name": "ipython",
    "version": 3
   },
   "file_extension": ".py",
   "mimetype": "text/x-python",
   "name": "python",
   "nbconvert_exporter": "python",
   "pygments_lexer": "ipython3",
   "version": "3.8.3"
  }
 },
 "nbformat": 4,
 "nbformat_minor": 4
}
